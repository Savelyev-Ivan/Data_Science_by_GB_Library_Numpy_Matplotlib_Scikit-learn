{
 "cells": [
  {
   "cell_type": "code",
   "execution_count": 2,
   "id": "8c954fd8",
   "metadata": {},
   "outputs": [],
   "source": [
    "import pandas as pd\n",
    "import numpy as np\n",
    "from sklearn.model_selection import train_test_split\n",
    "from sklearn.linear_model import LogisticRegression"
   ]
  },
  {
   "cell_type": "markdown",
   "id": "aa9663fa",
   "metadata": {},
   "source": [
    "#### Логистическая регрессия\n",
    "\n",
    "Логистическая регрессия используется для задач квалификации,\n",
    "\n",
    "при этом вычисляется вероятность принадлежности\n",
    "\n",
    "события к определенному классу.\n",
    "\n",
    "Задача алгоритма логистической регрессии - найти\n",
    "\n",
    "подходящие коэффициенты w при признаках x:\n",
    "\n",
    "z = w0 + w1 * x1 + w2 * x2 + ... + wm * xm\n",
    "\n",
    "Величина z помещается в сигмоидную функцию для вычисления вероятности:\n",
    "\n",
    "F(x) = 1 / (1 + e^-z)\n",
    "\n",
    "Значение F(x) будет расположено на отрезке [0, 1]. \n",
    "\n",
    "F(x)  вероятнось отнесения события к классу 1,\n",
    "\n",
    "1 - F(x) - вероятность отнесения события к классу 0.\n",
    "\n",
    "#### Log loss\n",
    "\n",
    "Алгоритм логистической регрессии минимизирует величину logloss:\n",
    "\n",
    "Logloss = -y * ln(p) - (1 - y)* ln(1 - p)\n",
    "\n",
    "где y - истинное значение (0 или 1)\n",
    "\n",
    "p - вычисленная алгоритмом вероятность того, что событие принадлежит классу 1"
   ]
  },
  {
   "cell_type": "code",
   "execution_count": 3,
   "id": "46f75c13",
   "metadata": {},
   "outputs": [],
   "source": [
    "data = pd.read_csv('input/train.csv')"
   ]
  },
  {
   "cell_type": "code",
   "execution_count": 4,
   "id": "66fff8c9",
   "metadata": {},
   "outputs": [
    {
     "data": {
      "text/html": [
       "<div>\n",
       "<style scoped>\n",
       "    .dataframe tbody tr th:only-of-type {\n",
       "        vertical-align: middle;\n",
       "    }\n",
       "\n",
       "    .dataframe tbody tr th {\n",
       "        vertical-align: top;\n",
       "    }\n",
       "\n",
       "    .dataframe thead th {\n",
       "        text-align: right;\n",
       "    }\n",
       "</style>\n",
       "<table border=\"1\" class=\"dataframe\">\n",
       "  <thead>\n",
       "    <tr style=\"text-align: right;\">\n",
       "      <th></th>\n",
       "      <th>PassengerId</th>\n",
       "      <th>Survived</th>\n",
       "      <th>Pclass</th>\n",
       "      <th>Name</th>\n",
       "      <th>Sex</th>\n",
       "      <th>Age</th>\n",
       "      <th>SibSp</th>\n",
       "      <th>Parch</th>\n",
       "      <th>Ticket</th>\n",
       "      <th>Fare</th>\n",
       "      <th>Cabin</th>\n",
       "      <th>Embarked</th>\n",
       "    </tr>\n",
       "  </thead>\n",
       "  <tbody>\n",
       "    <tr>\n",
       "      <th>0</th>\n",
       "      <td>1</td>\n",
       "      <td>0</td>\n",
       "      <td>3</td>\n",
       "      <td>Braund, Mr. Owen Harris</td>\n",
       "      <td>male</td>\n",
       "      <td>22.0</td>\n",
       "      <td>1</td>\n",
       "      <td>0</td>\n",
       "      <td>A/5 21171</td>\n",
       "      <td>7.2500</td>\n",
       "      <td>NaN</td>\n",
       "      <td>S</td>\n",
       "    </tr>\n",
       "    <tr>\n",
       "      <th>1</th>\n",
       "      <td>2</td>\n",
       "      <td>1</td>\n",
       "      <td>1</td>\n",
       "      <td>Cumings, Mrs. John Bradley (Florence Briggs Th...</td>\n",
       "      <td>female</td>\n",
       "      <td>38.0</td>\n",
       "      <td>1</td>\n",
       "      <td>0</td>\n",
       "      <td>PC 17599</td>\n",
       "      <td>71.2833</td>\n",
       "      <td>C85</td>\n",
       "      <td>C</td>\n",
       "    </tr>\n",
       "    <tr>\n",
       "      <th>2</th>\n",
       "      <td>3</td>\n",
       "      <td>1</td>\n",
       "      <td>3</td>\n",
       "      <td>Heikkinen, Miss. Laina</td>\n",
       "      <td>female</td>\n",
       "      <td>26.0</td>\n",
       "      <td>0</td>\n",
       "      <td>0</td>\n",
       "      <td>STON/O2. 3101282</td>\n",
       "      <td>7.9250</td>\n",
       "      <td>NaN</td>\n",
       "      <td>S</td>\n",
       "    </tr>\n",
       "    <tr>\n",
       "      <th>3</th>\n",
       "      <td>4</td>\n",
       "      <td>1</td>\n",
       "      <td>1</td>\n",
       "      <td>Futrelle, Mrs. Jacques Heath (Lily May Peel)</td>\n",
       "      <td>female</td>\n",
       "      <td>35.0</td>\n",
       "      <td>1</td>\n",
       "      <td>0</td>\n",
       "      <td>113803</td>\n",
       "      <td>53.1000</td>\n",
       "      <td>C123</td>\n",
       "      <td>S</td>\n",
       "    </tr>\n",
       "    <tr>\n",
       "      <th>4</th>\n",
       "      <td>5</td>\n",
       "      <td>0</td>\n",
       "      <td>3</td>\n",
       "      <td>Allen, Mr. William Henry</td>\n",
       "      <td>male</td>\n",
       "      <td>35.0</td>\n",
       "      <td>0</td>\n",
       "      <td>0</td>\n",
       "      <td>373450</td>\n",
       "      <td>8.0500</td>\n",
       "      <td>NaN</td>\n",
       "      <td>S</td>\n",
       "    </tr>\n",
       "    <tr>\n",
       "      <th>5</th>\n",
       "      <td>6</td>\n",
       "      <td>0</td>\n",
       "      <td>3</td>\n",
       "      <td>Moran, Mr. James</td>\n",
       "      <td>male</td>\n",
       "      <td>NaN</td>\n",
       "      <td>0</td>\n",
       "      <td>0</td>\n",
       "      <td>330877</td>\n",
       "      <td>8.4583</td>\n",
       "      <td>NaN</td>\n",
       "      <td>Q</td>\n",
       "    </tr>\n",
       "    <tr>\n",
       "      <th>6</th>\n",
       "      <td>7</td>\n",
       "      <td>0</td>\n",
       "      <td>1</td>\n",
       "      <td>McCarthy, Mr. Timothy J</td>\n",
       "      <td>male</td>\n",
       "      <td>54.0</td>\n",
       "      <td>0</td>\n",
       "      <td>0</td>\n",
       "      <td>17463</td>\n",
       "      <td>51.8625</td>\n",
       "      <td>E46</td>\n",
       "      <td>S</td>\n",
       "    </tr>\n",
       "    <tr>\n",
       "      <th>7</th>\n",
       "      <td>8</td>\n",
       "      <td>0</td>\n",
       "      <td>3</td>\n",
       "      <td>Palsson, Master. Gosta Leonard</td>\n",
       "      <td>male</td>\n",
       "      <td>2.0</td>\n",
       "      <td>3</td>\n",
       "      <td>1</td>\n",
       "      <td>349909</td>\n",
       "      <td>21.0750</td>\n",
       "      <td>NaN</td>\n",
       "      <td>S</td>\n",
       "    </tr>\n",
       "    <tr>\n",
       "      <th>8</th>\n",
       "      <td>9</td>\n",
       "      <td>1</td>\n",
       "      <td>3</td>\n",
       "      <td>Johnson, Mrs. Oscar W (Elisabeth Vilhelmina Berg)</td>\n",
       "      <td>female</td>\n",
       "      <td>27.0</td>\n",
       "      <td>0</td>\n",
       "      <td>2</td>\n",
       "      <td>347742</td>\n",
       "      <td>11.1333</td>\n",
       "      <td>NaN</td>\n",
       "      <td>S</td>\n",
       "    </tr>\n",
       "    <tr>\n",
       "      <th>9</th>\n",
       "      <td>10</td>\n",
       "      <td>1</td>\n",
       "      <td>2</td>\n",
       "      <td>Nasser, Mrs. Nicholas (Adele Achem)</td>\n",
       "      <td>female</td>\n",
       "      <td>14.0</td>\n",
       "      <td>1</td>\n",
       "      <td>0</td>\n",
       "      <td>237736</td>\n",
       "      <td>30.0708</td>\n",
       "      <td>NaN</td>\n",
       "      <td>C</td>\n",
       "    </tr>\n",
       "  </tbody>\n",
       "</table>\n",
       "</div>"
      ],
      "text/plain": [
       "   PassengerId  Survived  Pclass  \\\n",
       "0            1         0       3   \n",
       "1            2         1       1   \n",
       "2            3         1       3   \n",
       "3            4         1       1   \n",
       "4            5         0       3   \n",
       "5            6         0       3   \n",
       "6            7         0       1   \n",
       "7            8         0       3   \n",
       "8            9         1       3   \n",
       "9           10         1       2   \n",
       "\n",
       "                                                Name     Sex   Age  SibSp  \\\n",
       "0                            Braund, Mr. Owen Harris    male  22.0      1   \n",
       "1  Cumings, Mrs. John Bradley (Florence Briggs Th...  female  38.0      1   \n",
       "2                             Heikkinen, Miss. Laina  female  26.0      0   \n",
       "3       Futrelle, Mrs. Jacques Heath (Lily May Peel)  female  35.0      1   \n",
       "4                           Allen, Mr. William Henry    male  35.0      0   \n",
       "5                                   Moran, Mr. James    male   NaN      0   \n",
       "6                            McCarthy, Mr. Timothy J    male  54.0      0   \n",
       "7                     Palsson, Master. Gosta Leonard    male   2.0      3   \n",
       "8  Johnson, Mrs. Oscar W (Elisabeth Vilhelmina Berg)  female  27.0      0   \n",
       "9                Nasser, Mrs. Nicholas (Adele Achem)  female  14.0      1   \n",
       "\n",
       "   Parch            Ticket     Fare Cabin Embarked  \n",
       "0      0         A/5 21171   7.2500   NaN        S  \n",
       "1      0          PC 17599  71.2833   C85        C  \n",
       "2      0  STON/O2. 3101282   7.9250   NaN        S  \n",
       "3      0            113803  53.1000  C123        S  \n",
       "4      0            373450   8.0500   NaN        S  \n",
       "5      0            330877   8.4583   NaN        Q  \n",
       "6      0             17463  51.8625   E46        S  \n",
       "7      1            349909  21.0750   NaN        S  \n",
       "8      2            347742  11.1333   NaN        S  \n",
       "9      0            237736  30.0708   NaN        C  "
      ]
     },
     "execution_count": 4,
     "metadata": {},
     "output_type": "execute_result"
    }
   ],
   "source": [
    "data.head(10)"
   ]
  },
  {
   "cell_type": "code",
   "execution_count": 5,
   "id": "5ae4453c",
   "metadata": {},
   "outputs": [],
   "source": [
    "data = data.set_index('PassengerId')"
   ]
  },
  {
   "cell_type": "code",
   "execution_count": 6,
   "id": "ad65a608",
   "metadata": {},
   "outputs": [
    {
     "data": {
      "text/html": [
       "<div>\n",
       "<style scoped>\n",
       "    .dataframe tbody tr th:only-of-type {\n",
       "        vertical-align: middle;\n",
       "    }\n",
       "\n",
       "    .dataframe tbody tr th {\n",
       "        vertical-align: top;\n",
       "    }\n",
       "\n",
       "    .dataframe thead th {\n",
       "        text-align: right;\n",
       "    }\n",
       "</style>\n",
       "<table border=\"1\" class=\"dataframe\">\n",
       "  <thead>\n",
       "    <tr style=\"text-align: right;\">\n",
       "      <th></th>\n",
       "      <th>Survived</th>\n",
       "      <th>Pclass</th>\n",
       "      <th>Name</th>\n",
       "      <th>Sex</th>\n",
       "      <th>Age</th>\n",
       "      <th>SibSp</th>\n",
       "      <th>Parch</th>\n",
       "      <th>Ticket</th>\n",
       "      <th>Fare</th>\n",
       "      <th>Cabin</th>\n",
       "      <th>Embarked</th>\n",
       "    </tr>\n",
       "    <tr>\n",
       "      <th>PassengerId</th>\n",
       "      <th></th>\n",
       "      <th></th>\n",
       "      <th></th>\n",
       "      <th></th>\n",
       "      <th></th>\n",
       "      <th></th>\n",
       "      <th></th>\n",
       "      <th></th>\n",
       "      <th></th>\n",
       "      <th></th>\n",
       "      <th></th>\n",
       "    </tr>\n",
       "  </thead>\n",
       "  <tbody>\n",
       "    <tr>\n",
       "      <th>1</th>\n",
       "      <td>0</td>\n",
       "      <td>3</td>\n",
       "      <td>Braund, Mr. Owen Harris</td>\n",
       "      <td>male</td>\n",
       "      <td>22.0</td>\n",
       "      <td>1</td>\n",
       "      <td>0</td>\n",
       "      <td>A/5 21171</td>\n",
       "      <td>7.2500</td>\n",
       "      <td>NaN</td>\n",
       "      <td>S</td>\n",
       "    </tr>\n",
       "    <tr>\n",
       "      <th>2</th>\n",
       "      <td>1</td>\n",
       "      <td>1</td>\n",
       "      <td>Cumings, Mrs. John Bradley (Florence Briggs Th...</td>\n",
       "      <td>female</td>\n",
       "      <td>38.0</td>\n",
       "      <td>1</td>\n",
       "      <td>0</td>\n",
       "      <td>PC 17599</td>\n",
       "      <td>71.2833</td>\n",
       "      <td>C85</td>\n",
       "      <td>C</td>\n",
       "    </tr>\n",
       "    <tr>\n",
       "      <th>3</th>\n",
       "      <td>1</td>\n",
       "      <td>3</td>\n",
       "      <td>Heikkinen, Miss. Laina</td>\n",
       "      <td>female</td>\n",
       "      <td>26.0</td>\n",
       "      <td>0</td>\n",
       "      <td>0</td>\n",
       "      <td>STON/O2. 3101282</td>\n",
       "      <td>7.9250</td>\n",
       "      <td>NaN</td>\n",
       "      <td>S</td>\n",
       "    </tr>\n",
       "    <tr>\n",
       "      <th>4</th>\n",
       "      <td>1</td>\n",
       "      <td>1</td>\n",
       "      <td>Futrelle, Mrs. Jacques Heath (Lily May Peel)</td>\n",
       "      <td>female</td>\n",
       "      <td>35.0</td>\n",
       "      <td>1</td>\n",
       "      <td>0</td>\n",
       "      <td>113803</td>\n",
       "      <td>53.1000</td>\n",
       "      <td>C123</td>\n",
       "      <td>S</td>\n",
       "    </tr>\n",
       "    <tr>\n",
       "      <th>5</th>\n",
       "      <td>0</td>\n",
       "      <td>3</td>\n",
       "      <td>Allen, Mr. William Henry</td>\n",
       "      <td>male</td>\n",
       "      <td>35.0</td>\n",
       "      <td>0</td>\n",
       "      <td>0</td>\n",
       "      <td>373450</td>\n",
       "      <td>8.0500</td>\n",
       "      <td>NaN</td>\n",
       "      <td>S</td>\n",
       "    </tr>\n",
       "  </tbody>\n",
       "</table>\n",
       "</div>"
      ],
      "text/plain": [
       "             Survived  Pclass  \\\n",
       "PassengerId                     \n",
       "1                   0       3   \n",
       "2                   1       1   \n",
       "3                   1       3   \n",
       "4                   1       1   \n",
       "5                   0       3   \n",
       "\n",
       "                                                          Name     Sex   Age  \\\n",
       "PassengerId                                                                    \n",
       "1                                      Braund, Mr. Owen Harris    male  22.0   \n",
       "2            Cumings, Mrs. John Bradley (Florence Briggs Th...  female  38.0   \n",
       "3                                       Heikkinen, Miss. Laina  female  26.0   \n",
       "4                 Futrelle, Mrs. Jacques Heath (Lily May Peel)  female  35.0   \n",
       "5                                     Allen, Mr. William Henry    male  35.0   \n",
       "\n",
       "             SibSp  Parch            Ticket     Fare Cabin Embarked  \n",
       "PassengerId                                                          \n",
       "1                1      0         A/5 21171   7.2500   NaN        S  \n",
       "2                1      0          PC 17599  71.2833   C85        C  \n",
       "3                0      0  STON/O2. 3101282   7.9250   NaN        S  \n",
       "4                1      0            113803  53.1000  C123        S  \n",
       "5                0      0            373450   8.0500   NaN        S  "
      ]
     },
     "execution_count": 6,
     "metadata": {},
     "output_type": "execute_result"
    }
   ],
   "source": [
    "data.head()"
   ]
  },
  {
   "cell_type": "code",
   "execution_count": 7,
   "id": "2978d6f8",
   "metadata": {},
   "outputs": [
    {
     "data": {
      "text/plain": [
       "Index(['Survived', 'Pclass', 'Name', 'Sex', 'Age', 'SibSp', 'Parch', 'Ticket',\n",
       "       'Fare', 'Cabin', 'Embarked'],\n",
       "      dtype='object')"
      ]
     },
     "execution_count": 7,
     "metadata": {},
     "output_type": "execute_result"
    }
   ],
   "source": [
    "data.columns"
   ]
  },
  {
   "cell_type": "markdown",
   "id": "769b85df",
   "metadata": {},
   "source": [
    "Наша задача - определить, выжил ли человек при крушении Титаника\n",
    "\n",
    "В поле Survived выжившие пассажиры обозначены единицей, а утонувшие нулём "
   ]
  },
  {
   "cell_type": "code",
   "execution_count": 8,
   "id": "9cb96c6d",
   "metadata": {},
   "outputs": [],
   "source": [
    "target = 'Survived'"
   ]
  },
  {
   "cell_type": "code",
   "execution_count": 9,
   "id": "d34a52a0",
   "metadata": {},
   "outputs": [],
   "source": [
    "y = data[target]"
   ]
  },
  {
   "cell_type": "code",
   "execution_count": 10,
   "id": "9ae24e03",
   "metadata": {},
   "outputs": [],
   "source": [
    "X = data.drop(target, axis=1)"
   ]
  },
  {
   "cell_type": "markdown",
   "id": "0da1f304",
   "metadata": {},
   "source": [
    "Изучение качества данных и их очистка"
   ]
  },
  {
   "cell_type": "code",
   "execution_count": 11,
   "id": "854f26c8",
   "metadata": {},
   "outputs": [
    {
     "name": "stdout",
     "output_type": "stream",
     "text": [
      "<class 'pandas.core.frame.DataFrame'>\n",
      "Int64Index: 891 entries, 1 to 891\n",
      "Data columns (total 10 columns):\n",
      " #   Column    Non-Null Count  Dtype  \n",
      "---  ------    --------------  -----  \n",
      " 0   Pclass    891 non-null    int64  \n",
      " 1   Name      891 non-null    object \n",
      " 2   Sex       891 non-null    object \n",
      " 3   Age       714 non-null    float64\n",
      " 4   SibSp     891 non-null    int64  \n",
      " 5   Parch     891 non-null    int64  \n",
      " 6   Ticket    891 non-null    object \n",
      " 7   Fare      891 non-null    float64\n",
      " 8   Cabin     204 non-null    object \n",
      " 9   Embarked  889 non-null    object \n",
      "dtypes: float64(2), int64(3), object(5)\n",
      "memory usage: 76.6+ KB\n"
     ]
    }
   ],
   "source": [
    "X.info()"
   ]
  },
  {
   "cell_type": "markdown",
   "id": "b7cc9cdf",
   "metadata": {},
   "source": [
    "В поле Cabin слишком много пропущенных значений,\n",
    "\n",
    "в этом уроке мы не будем его использовать.\n",
    "\n",
    "Столбцы Name и Ticket  в этот раз то же не рассматриваем.\n",
    "\n",
    "Удалим эти поля:"
   ]
  },
  {
   "cell_type": "code",
   "execution_count": 12,
   "id": "e832d3f5",
   "metadata": {},
   "outputs": [],
   "source": [
    "X = X.drop(['Cabin', 'Name', 'Ticket'], axis=1)"
   ]
  },
  {
   "cell_type": "markdown",
   "id": "995a11e5",
   "metadata": {},
   "source": [
    "В поле возраст 20% значений не заполнено. Заменим пропущенные значения на значения среднего возраста."
   ]
  },
  {
   "cell_type": "code",
   "execution_count": 13,
   "id": "51217911",
   "metadata": {},
   "outputs": [
    {
     "data": {
      "text/plain": [
       "29.69911764705882"
      ]
     },
     "execution_count": 13,
     "metadata": {},
     "output_type": "execute_result"
    }
   ],
   "source": [
    "mean_age = X['Age'].mean()\n",
    "mean_age"
   ]
  },
  {
   "cell_type": "code",
   "execution_count": 14,
   "id": "77fe069d",
   "metadata": {},
   "outputs": [],
   "source": [
    "X['Age'] = X['Age'].fillna(mean_age)"
   ]
  },
  {
   "cell_type": "code",
   "execution_count": 15,
   "id": "5373e89f",
   "metadata": {},
   "outputs": [
    {
     "data": {
      "text/plain": [
       "array([22.        , 38.        , 26.        , 35.        , 29.69911765,\n",
       "       54.        ,  2.        , 27.        , 14.        ,  4.        ,\n",
       "       58.        , 20.        , 39.        , 55.        , 31.        ,\n",
       "       34.        , 15.        , 28.        ,  8.        , 19.        ,\n",
       "       40.        , 66.        , 42.        , 21.        , 18.        ,\n",
       "        3.        ,  7.        , 49.        , 29.        , 65.        ,\n",
       "       28.5       ,  5.        , 11.        , 45.        , 17.        ,\n",
       "       32.        , 16.        , 25.        ,  0.83      , 30.        ,\n",
       "       33.        , 23.        , 24.        , 46.        , 59.        ,\n",
       "       71.        , 37.        , 47.        , 14.5       , 70.5       ,\n",
       "       32.5       , 12.        ,  9.        , 36.5       , 51.        ,\n",
       "       55.5       , 40.5       , 44.        ,  1.        , 61.        ,\n",
       "       56.        , 50.        , 36.        , 45.5       , 20.5       ,\n",
       "       62.        , 41.        , 52.        , 63.        , 23.5       ,\n",
       "        0.92      , 43.        , 60.        , 10.        , 64.        ,\n",
       "       13.        , 48.        ,  0.75      , 53.        , 57.        ,\n",
       "       80.        , 70.        , 24.5       ,  6.        ,  0.67      ,\n",
       "       30.5       ,  0.42      , 34.5       , 74.        ])"
      ]
     },
     "execution_count": 15,
     "metadata": {},
     "output_type": "execute_result"
    }
   ],
   "source": [
    "X['Age'].unique()"
   ]
  },
  {
   "cell_type": "markdown",
   "id": "d64ec950",
   "metadata": {},
   "source": [
    "В поле Embarked, которое является тестовым, не хватает двух значений,\n",
    "\n",
    "заполним пропущенные значения наиболее часто встречающимися (мода)"
   ]
  },
  {
   "cell_type": "code",
   "execution_count": 16,
   "id": "461e8c8e",
   "metadata": {},
   "outputs": [
    {
     "data": {
      "text/plain": [
       "S    644\n",
       "C    168\n",
       "Q     77\n",
       "Name: Embarked, dtype: int64"
      ]
     },
     "execution_count": 16,
     "metadata": {},
     "output_type": "execute_result"
    }
   ],
   "source": [
    "X['Embarked'].value_counts()"
   ]
  },
  {
   "cell_type": "code",
   "execution_count": 17,
   "id": "b80ff877",
   "metadata": {},
   "outputs": [
    {
     "data": {
      "text/plain": [
       "'S'"
      ]
     },
     "execution_count": 17,
     "metadata": {},
     "output_type": "execute_result"
    }
   ],
   "source": [
    "embarked_mode = X['Embarked'].mode()[0]\n",
    "embarked_mode"
   ]
  },
  {
   "cell_type": "code",
   "execution_count": 18,
   "id": "79dd6c40",
   "metadata": {},
   "outputs": [],
   "source": [
    "X['Embarked'] = X['Embarked'].fillna(embarked_mode)"
   ]
  },
  {
   "cell_type": "code",
   "execution_count": 19,
   "id": "3b704b1c",
   "metadata": {},
   "outputs": [
    {
     "data": {
      "text/plain": [
       "S    646\n",
       "C    168\n",
       "Q     77\n",
       "Name: Embarked, dtype: int64"
      ]
     },
     "execution_count": 19,
     "metadata": {},
     "output_type": "execute_result"
    }
   ],
   "source": [
    "X['Embarked'].value_counts()"
   ]
  },
  {
   "cell_type": "code",
   "execution_count": 20,
   "id": "75a356ff",
   "metadata": {},
   "outputs": [
    {
     "name": "stdout",
     "output_type": "stream",
     "text": [
      "<class 'pandas.core.frame.DataFrame'>\n",
      "Int64Index: 891 entries, 1 to 891\n",
      "Data columns (total 7 columns):\n",
      " #   Column    Non-Null Count  Dtype  \n",
      "---  ------    --------------  -----  \n",
      " 0   Pclass    891 non-null    int64  \n",
      " 1   Sex       891 non-null    object \n",
      " 2   Age       891 non-null    float64\n",
      " 3   SibSp     891 non-null    int64  \n",
      " 4   Parch     891 non-null    int64  \n",
      " 5   Fare      891 non-null    float64\n",
      " 6   Embarked  891 non-null    object \n",
      "dtypes: float64(2), int64(3), object(2)\n",
      "memory usage: 55.7+ KB\n"
     ]
    }
   ],
   "source": [
    "X.info()"
   ]
  },
  {
   "cell_type": "markdown",
   "id": "7630bf43",
   "metadata": {},
   "source": [
    "Работа с категориальными признаками\n",
    "\n",
    "Признак пола пассажира - категориальная переменная. Так как в ней два класса, \n",
    "\n",
    "то мы можем представить одной колонкой со значаниями 0 и 1"
   ]
  },
  {
   "cell_type": "code",
   "execution_count": 21,
   "id": "006eafdc",
   "metadata": {},
   "outputs": [
    {
     "data": {
      "text/plain": [
       "male      577\n",
       "female    314\n",
       "Name: Sex, dtype: int64"
      ]
     },
     "execution_count": 21,
     "metadata": {},
     "output_type": "execute_result"
    }
   ],
   "source": [
    "X['Sex'].value_counts()"
   ]
  },
  {
   "cell_type": "code",
   "execution_count": 22,
   "id": "cfa7dca5",
   "metadata": {},
   "outputs": [],
   "source": [
    "X['Sex'] = (X['Sex'] == 'female').astype(int)"
   ]
  },
  {
   "cell_type": "code",
   "execution_count": 23,
   "id": "ec98d154",
   "metadata": {},
   "outputs": [
    {
     "data": {
      "text/plain": [
       "0    577\n",
       "1    314\n",
       "Name: Sex, dtype: int64"
      ]
     },
     "execution_count": 23,
     "metadata": {},
     "output_type": "execute_result"
    }
   ],
   "source": [
    "X['Sex'].value_counts()"
   ]
  },
  {
   "cell_type": "markdown",
   "id": "672aed7c",
   "metadata": {},
   "source": [
    "Еще одна катигориальная переменная - Embarked\n",
    "\n",
    "преобразуем её значения в dummy-переменные\n",
    "\n",
    "Теперь каждому её значению будет отведен отдельный столбец\n",
    "\n",
    "в котором возможны два числа\n",
    "\n",
    "1 (переменная равна данному значению)\n",
    "\n",
    "0 (переменная не равна данному значению)"
   ]
  },
  {
   "cell_type": "code",
   "execution_count": 24,
   "id": "8bd1a2c7",
   "metadata": {},
   "outputs": [],
   "source": [
    "X = pd.get_dummies(X)"
   ]
  },
  {
   "cell_type": "markdown",
   "id": "24538bfd",
   "metadata": {},
   "source": [
    "Переменная Embarked преобразовалась в дамми переменные Embarked_C, Embarked_Q, Embarked_S"
   ]
  },
  {
   "cell_type": "code",
   "execution_count": 25,
   "id": "997ac304",
   "metadata": {},
   "outputs": [
    {
     "data": {
      "text/plain": [
       "Index(['Pclass', 'Sex', 'Age', 'SibSp', 'Parch', 'Fare', 'Embarked_C',\n",
       "       'Embarked_Q', 'Embarked_S'],\n",
       "      dtype='object')"
      ]
     },
     "execution_count": 25,
     "metadata": {},
     "output_type": "execute_result"
    }
   ],
   "source": [
    "X.columns"
   ]
  },
  {
   "cell_type": "code",
   "execution_count": 26,
   "id": "8c9768ce",
   "metadata": {},
   "outputs": [
    {
     "name": "stdout",
     "output_type": "stream",
     "text": [
      "<class 'pandas.core.frame.DataFrame'>\n",
      "Int64Index: 891 entries, 1 to 891\n",
      "Data columns (total 9 columns):\n",
      " #   Column      Non-Null Count  Dtype  \n",
      "---  ------      --------------  -----  \n",
      " 0   Pclass      891 non-null    int64  \n",
      " 1   Sex         891 non-null    int32  \n",
      " 2   Age         891 non-null    float64\n",
      " 3   SibSp       891 non-null    int64  \n",
      " 4   Parch       891 non-null    int64  \n",
      " 5   Fare        891 non-null    float64\n",
      " 6   Embarked_C  891 non-null    uint8  \n",
      " 7   Embarked_Q  891 non-null    uint8  \n",
      " 8   Embarked_S  891 non-null    uint8  \n",
      "dtypes: float64(2), int32(1), int64(3), uint8(3)\n",
      "memory usage: 47.9 KB\n"
     ]
    }
   ],
   "source": [
    "X.info()"
   ]
  },
  {
   "cell_type": "code",
   "execution_count": 27,
   "id": "81607bf8",
   "metadata": {},
   "outputs": [
    {
     "data": {
      "text/html": [
       "<div>\n",
       "<style scoped>\n",
       "    .dataframe tbody tr th:only-of-type {\n",
       "        vertical-align: middle;\n",
       "    }\n",
       "\n",
       "    .dataframe tbody tr th {\n",
       "        vertical-align: top;\n",
       "    }\n",
       "\n",
       "    .dataframe thead th {\n",
       "        text-align: right;\n",
       "    }\n",
       "</style>\n",
       "<table border=\"1\" class=\"dataframe\">\n",
       "  <thead>\n",
       "    <tr style=\"text-align: right;\">\n",
       "      <th></th>\n",
       "      <th>Pclass</th>\n",
       "      <th>Sex</th>\n",
       "      <th>Age</th>\n",
       "      <th>SibSp</th>\n",
       "      <th>Parch</th>\n",
       "      <th>Fare</th>\n",
       "      <th>Embarked_C</th>\n",
       "      <th>Embarked_Q</th>\n",
       "      <th>Embarked_S</th>\n",
       "    </tr>\n",
       "    <tr>\n",
       "      <th>PassengerId</th>\n",
       "      <th></th>\n",
       "      <th></th>\n",
       "      <th></th>\n",
       "      <th></th>\n",
       "      <th></th>\n",
       "      <th></th>\n",
       "      <th></th>\n",
       "      <th></th>\n",
       "      <th></th>\n",
       "    </tr>\n",
       "  </thead>\n",
       "  <tbody>\n",
       "    <tr>\n",
       "      <th>1</th>\n",
       "      <td>3</td>\n",
       "      <td>0</td>\n",
       "      <td>22.000000</td>\n",
       "      <td>1</td>\n",
       "      <td>0</td>\n",
       "      <td>7.2500</td>\n",
       "      <td>0</td>\n",
       "      <td>0</td>\n",
       "      <td>1</td>\n",
       "    </tr>\n",
       "    <tr>\n",
       "      <th>2</th>\n",
       "      <td>1</td>\n",
       "      <td>1</td>\n",
       "      <td>38.000000</td>\n",
       "      <td>1</td>\n",
       "      <td>0</td>\n",
       "      <td>71.2833</td>\n",
       "      <td>1</td>\n",
       "      <td>0</td>\n",
       "      <td>0</td>\n",
       "    </tr>\n",
       "    <tr>\n",
       "      <th>3</th>\n",
       "      <td>3</td>\n",
       "      <td>1</td>\n",
       "      <td>26.000000</td>\n",
       "      <td>0</td>\n",
       "      <td>0</td>\n",
       "      <td>7.9250</td>\n",
       "      <td>0</td>\n",
       "      <td>0</td>\n",
       "      <td>1</td>\n",
       "    </tr>\n",
       "    <tr>\n",
       "      <th>4</th>\n",
       "      <td>1</td>\n",
       "      <td>1</td>\n",
       "      <td>35.000000</td>\n",
       "      <td>1</td>\n",
       "      <td>0</td>\n",
       "      <td>53.1000</td>\n",
       "      <td>0</td>\n",
       "      <td>0</td>\n",
       "      <td>1</td>\n",
       "    </tr>\n",
       "    <tr>\n",
       "      <th>5</th>\n",
       "      <td>3</td>\n",
       "      <td>0</td>\n",
       "      <td>35.000000</td>\n",
       "      <td>0</td>\n",
       "      <td>0</td>\n",
       "      <td>8.0500</td>\n",
       "      <td>0</td>\n",
       "      <td>0</td>\n",
       "      <td>1</td>\n",
       "    </tr>\n",
       "    <tr>\n",
       "      <th>6</th>\n",
       "      <td>3</td>\n",
       "      <td>0</td>\n",
       "      <td>29.699118</td>\n",
       "      <td>0</td>\n",
       "      <td>0</td>\n",
       "      <td>8.4583</td>\n",
       "      <td>0</td>\n",
       "      <td>1</td>\n",
       "      <td>0</td>\n",
       "    </tr>\n",
       "    <tr>\n",
       "      <th>7</th>\n",
       "      <td>1</td>\n",
       "      <td>0</td>\n",
       "      <td>54.000000</td>\n",
       "      <td>0</td>\n",
       "      <td>0</td>\n",
       "      <td>51.8625</td>\n",
       "      <td>0</td>\n",
       "      <td>0</td>\n",
       "      <td>1</td>\n",
       "    </tr>\n",
       "    <tr>\n",
       "      <th>8</th>\n",
       "      <td>3</td>\n",
       "      <td>0</td>\n",
       "      <td>2.000000</td>\n",
       "      <td>3</td>\n",
       "      <td>1</td>\n",
       "      <td>21.0750</td>\n",
       "      <td>0</td>\n",
       "      <td>0</td>\n",
       "      <td>1</td>\n",
       "    </tr>\n",
       "    <tr>\n",
       "      <th>9</th>\n",
       "      <td>3</td>\n",
       "      <td>1</td>\n",
       "      <td>27.000000</td>\n",
       "      <td>0</td>\n",
       "      <td>2</td>\n",
       "      <td>11.1333</td>\n",
       "      <td>0</td>\n",
       "      <td>0</td>\n",
       "      <td>1</td>\n",
       "    </tr>\n",
       "    <tr>\n",
       "      <th>10</th>\n",
       "      <td>2</td>\n",
       "      <td>1</td>\n",
       "      <td>14.000000</td>\n",
       "      <td>1</td>\n",
       "      <td>0</td>\n",
       "      <td>30.0708</td>\n",
       "      <td>1</td>\n",
       "      <td>0</td>\n",
       "      <td>0</td>\n",
       "    </tr>\n",
       "  </tbody>\n",
       "</table>\n",
       "</div>"
      ],
      "text/plain": [
       "             Pclass  Sex        Age  SibSp  Parch     Fare  Embarked_C  \\\n",
       "PassengerId                                                              \n",
       "1                 3    0  22.000000      1      0   7.2500           0   \n",
       "2                 1    1  38.000000      1      0  71.2833           1   \n",
       "3                 3    1  26.000000      0      0   7.9250           0   \n",
       "4                 1    1  35.000000      1      0  53.1000           0   \n",
       "5                 3    0  35.000000      0      0   8.0500           0   \n",
       "6                 3    0  29.699118      0      0   8.4583           0   \n",
       "7                 1    0  54.000000      0      0  51.8625           0   \n",
       "8                 3    0   2.000000      3      1  21.0750           0   \n",
       "9                 3    1  27.000000      0      2  11.1333           0   \n",
       "10                2    1  14.000000      1      0  30.0708           1   \n",
       "\n",
       "             Embarked_Q  Embarked_S  \n",
       "PassengerId                          \n",
       "1                     0           1  \n",
       "2                     0           0  \n",
       "3                     0           1  \n",
       "4                     0           1  \n",
       "5                     0           1  \n",
       "6                     1           0  \n",
       "7                     0           1  \n",
       "8                     0           1  \n",
       "9                     0           1  \n",
       "10                    0           0  "
      ]
     },
     "execution_count": 27,
     "metadata": {},
     "output_type": "execute_result"
    }
   ],
   "source": [
    "X.head(10)"
   ]
  },
  {
   "cell_type": "markdown",
   "id": "4b42a40f",
   "metadata": {},
   "source": [
    "Пепеменную Pclass можно отправить в модель в таком виде,\n",
    "\n",
    "какая она есть сейчас, так как она представленна числами,\n",
    "\n",
    "но так как это все-таки не количественная переменная \n",
    "\n",
    "(например, нельзя сказать, что между классами 1 и 2 такая же разность как между 2 и 3),\n",
    "\n",
    "то её так же переведем в дамми-переменные.\n",
    "\n",
    "Для этого поменяем её тип данных на category\n",
    "\n",
    "и применим ещё раз применим функцию get_dummies\n",
    "\n",
    "ко всему датафрейму\n",
    "\n",
    "Эта функция переведет в дамми-переменные все нечисловые признаки"
   ]
  },
  {
   "cell_type": "code",
   "execution_count": 28,
   "id": "9062831a",
   "metadata": {},
   "outputs": [
    {
     "data": {
      "text/plain": [
       "array([3, 1, 2], dtype=int64)"
      ]
     },
     "execution_count": 28,
     "metadata": {},
     "output_type": "execute_result"
    }
   ],
   "source": [
    "X['Pclass'].unique()"
   ]
  },
  {
   "cell_type": "code",
   "execution_count": 29,
   "id": "89045a01",
   "metadata": {},
   "outputs": [],
   "source": [
    "X['Pclass'] = X['Pclass'].astype('category')"
   ]
  },
  {
   "cell_type": "code",
   "execution_count": 30,
   "id": "777b51f9",
   "metadata": {},
   "outputs": [],
   "source": [
    "X = pd.get_dummies(X)"
   ]
  },
  {
   "cell_type": "code",
   "execution_count": 31,
   "id": "f86929bc",
   "metadata": {},
   "outputs": [
    {
     "data": {
      "text/plain": [
       "Index(['Sex', 'Age', 'SibSp', 'Parch', 'Fare', 'Embarked_C', 'Embarked_Q',\n",
       "       'Embarked_S', 'Pclass_1', 'Pclass_2', 'Pclass_3'],\n",
       "      dtype='object')"
      ]
     },
     "execution_count": 31,
     "metadata": {},
     "output_type": "execute_result"
    }
   ],
   "source": [
    "X.columns"
   ]
  },
  {
   "cell_type": "code",
   "execution_count": 32,
   "id": "df6243ba",
   "metadata": {},
   "outputs": [
    {
     "data": {
      "text/html": [
       "<div>\n",
       "<style scoped>\n",
       "    .dataframe tbody tr th:only-of-type {\n",
       "        vertical-align: middle;\n",
       "    }\n",
       "\n",
       "    .dataframe tbody tr th {\n",
       "        vertical-align: top;\n",
       "    }\n",
       "\n",
       "    .dataframe thead th {\n",
       "        text-align: right;\n",
       "    }\n",
       "</style>\n",
       "<table border=\"1\" class=\"dataframe\">\n",
       "  <thead>\n",
       "    <tr style=\"text-align: right;\">\n",
       "      <th></th>\n",
       "      <th>Sex</th>\n",
       "      <th>Age</th>\n",
       "      <th>SibSp</th>\n",
       "      <th>Parch</th>\n",
       "      <th>Fare</th>\n",
       "      <th>Embarked_C</th>\n",
       "      <th>Embarked_Q</th>\n",
       "      <th>Embarked_S</th>\n",
       "      <th>Pclass_1</th>\n",
       "      <th>Pclass_2</th>\n",
       "      <th>Pclass_3</th>\n",
       "    </tr>\n",
       "    <tr>\n",
       "      <th>PassengerId</th>\n",
       "      <th></th>\n",
       "      <th></th>\n",
       "      <th></th>\n",
       "      <th></th>\n",
       "      <th></th>\n",
       "      <th></th>\n",
       "      <th></th>\n",
       "      <th></th>\n",
       "      <th></th>\n",
       "      <th></th>\n",
       "      <th></th>\n",
       "    </tr>\n",
       "  </thead>\n",
       "  <tbody>\n",
       "    <tr>\n",
       "      <th>1</th>\n",
       "      <td>0</td>\n",
       "      <td>22.000000</td>\n",
       "      <td>1</td>\n",
       "      <td>0</td>\n",
       "      <td>7.2500</td>\n",
       "      <td>0</td>\n",
       "      <td>0</td>\n",
       "      <td>1</td>\n",
       "      <td>0</td>\n",
       "      <td>0</td>\n",
       "      <td>1</td>\n",
       "    </tr>\n",
       "    <tr>\n",
       "      <th>2</th>\n",
       "      <td>1</td>\n",
       "      <td>38.000000</td>\n",
       "      <td>1</td>\n",
       "      <td>0</td>\n",
       "      <td>71.2833</td>\n",
       "      <td>1</td>\n",
       "      <td>0</td>\n",
       "      <td>0</td>\n",
       "      <td>1</td>\n",
       "      <td>0</td>\n",
       "      <td>0</td>\n",
       "    </tr>\n",
       "    <tr>\n",
       "      <th>3</th>\n",
       "      <td>1</td>\n",
       "      <td>26.000000</td>\n",
       "      <td>0</td>\n",
       "      <td>0</td>\n",
       "      <td>7.9250</td>\n",
       "      <td>0</td>\n",
       "      <td>0</td>\n",
       "      <td>1</td>\n",
       "      <td>0</td>\n",
       "      <td>0</td>\n",
       "      <td>1</td>\n",
       "    </tr>\n",
       "    <tr>\n",
       "      <th>4</th>\n",
       "      <td>1</td>\n",
       "      <td>35.000000</td>\n",
       "      <td>1</td>\n",
       "      <td>0</td>\n",
       "      <td>53.1000</td>\n",
       "      <td>0</td>\n",
       "      <td>0</td>\n",
       "      <td>1</td>\n",
       "      <td>1</td>\n",
       "      <td>0</td>\n",
       "      <td>0</td>\n",
       "    </tr>\n",
       "    <tr>\n",
       "      <th>5</th>\n",
       "      <td>0</td>\n",
       "      <td>35.000000</td>\n",
       "      <td>0</td>\n",
       "      <td>0</td>\n",
       "      <td>8.0500</td>\n",
       "      <td>0</td>\n",
       "      <td>0</td>\n",
       "      <td>1</td>\n",
       "      <td>0</td>\n",
       "      <td>0</td>\n",
       "      <td>1</td>\n",
       "    </tr>\n",
       "    <tr>\n",
       "      <th>6</th>\n",
       "      <td>0</td>\n",
       "      <td>29.699118</td>\n",
       "      <td>0</td>\n",
       "      <td>0</td>\n",
       "      <td>8.4583</td>\n",
       "      <td>0</td>\n",
       "      <td>1</td>\n",
       "      <td>0</td>\n",
       "      <td>0</td>\n",
       "      <td>0</td>\n",
       "      <td>1</td>\n",
       "    </tr>\n",
       "    <tr>\n",
       "      <th>7</th>\n",
       "      <td>0</td>\n",
       "      <td>54.000000</td>\n",
       "      <td>0</td>\n",
       "      <td>0</td>\n",
       "      <td>51.8625</td>\n",
       "      <td>0</td>\n",
       "      <td>0</td>\n",
       "      <td>1</td>\n",
       "      <td>1</td>\n",
       "      <td>0</td>\n",
       "      <td>0</td>\n",
       "    </tr>\n",
       "    <tr>\n",
       "      <th>8</th>\n",
       "      <td>0</td>\n",
       "      <td>2.000000</td>\n",
       "      <td>3</td>\n",
       "      <td>1</td>\n",
       "      <td>21.0750</td>\n",
       "      <td>0</td>\n",
       "      <td>0</td>\n",
       "      <td>1</td>\n",
       "      <td>0</td>\n",
       "      <td>0</td>\n",
       "      <td>1</td>\n",
       "    </tr>\n",
       "    <tr>\n",
       "      <th>9</th>\n",
       "      <td>1</td>\n",
       "      <td>27.000000</td>\n",
       "      <td>0</td>\n",
       "      <td>2</td>\n",
       "      <td>11.1333</td>\n",
       "      <td>0</td>\n",
       "      <td>0</td>\n",
       "      <td>1</td>\n",
       "      <td>0</td>\n",
       "      <td>0</td>\n",
       "      <td>1</td>\n",
       "    </tr>\n",
       "    <tr>\n",
       "      <th>10</th>\n",
       "      <td>1</td>\n",
       "      <td>14.000000</td>\n",
       "      <td>1</td>\n",
       "      <td>0</td>\n",
       "      <td>30.0708</td>\n",
       "      <td>1</td>\n",
       "      <td>0</td>\n",
       "      <td>0</td>\n",
       "      <td>0</td>\n",
       "      <td>1</td>\n",
       "      <td>0</td>\n",
       "    </tr>\n",
       "  </tbody>\n",
       "</table>\n",
       "</div>"
      ],
      "text/plain": [
       "             Sex        Age  SibSp  Parch     Fare  Embarked_C  Embarked_Q  \\\n",
       "PassengerId                                                                  \n",
       "1              0  22.000000      1      0   7.2500           0           0   \n",
       "2              1  38.000000      1      0  71.2833           1           0   \n",
       "3              1  26.000000      0      0   7.9250           0           0   \n",
       "4              1  35.000000      1      0  53.1000           0           0   \n",
       "5              0  35.000000      0      0   8.0500           0           0   \n",
       "6              0  29.699118      0      0   8.4583           0           1   \n",
       "7              0  54.000000      0      0  51.8625           0           0   \n",
       "8              0   2.000000      3      1  21.0750           0           0   \n",
       "9              1  27.000000      0      2  11.1333           0           0   \n",
       "10             1  14.000000      1      0  30.0708           1           0   \n",
       "\n",
       "             Embarked_S  Pclass_1  Pclass_2  Pclass_3  \n",
       "PassengerId                                            \n",
       "1                     1         0         0         1  \n",
       "2                     0         1         0         0  \n",
       "3                     1         0         0         1  \n",
       "4                     1         1         0         0  \n",
       "5                     1         0         0         1  \n",
       "6                     0         0         0         1  \n",
       "7                     1         1         0         0  \n",
       "8                     1         0         0         1  \n",
       "9                     1         0         0         1  \n",
       "10                    0         0         1         0  "
      ]
     },
     "execution_count": 32,
     "metadata": {},
     "output_type": "execute_result"
    }
   ],
   "source": [
    "X.head(10)"
   ]
  },
  {
   "cell_type": "markdown",
   "id": "0466db53",
   "metadata": {},
   "source": [
    "Цель разбиения данных на тренировочный, валидационный и тестовый датасеты\n",
    "\n",
    "В этот раз мы будем более работать с разделением данных для модели более тщательно,\n",
    "\n",
    "мы разобъем данные из файла train.csv на две части\n",
    "\n",
    "тренировочный набор данных (признаки X_train, целевая переменная y_train)\n",
    "\n",
    "и валидационные ( соответственно X_valid и y_valid)\n",
    "\n",
    "на тренировочном датасете мы будем строить модель, а на валидационном - проверять её качество.\n",
    "\n",
    "После проверки на валидационном сете можно будет окончательно проверить модель на тестовом сете \n",
    "\n",
    "рекомендуем самостоятельно проверить точнить данных при отправке решения"
   ]
  },
  {
   "cell_type": "code",
   "execution_count": 33,
   "id": "e9aceafd",
   "metadata": {},
   "outputs": [],
   "source": [
    "X_train, X_valid, y_train, y_valid = train_test_split(X, y, test_size=0.25, random_state=42)"
   ]
  },
  {
   "cell_type": "markdown",
   "id": "ba083d76",
   "metadata": {},
   "source": [
    "Построение модели\n",
    "\n",
    "В начале работы над любой задачей рекомендуется сначала сделать простую модель,\n",
    "\n",
    "не затрачивая большого количества времени\n",
    "\n",
    "Затем можно будет оценить новые модели сравнивая их качество\n",
    "\n",
    "с качеством первоначальной (базовой) модели\n",
    "\n",
    "Сначала посмотрим на информацию о признаках"
   ]
  },
  {
   "cell_type": "code",
   "execution_count": 35,
   "id": "43b4c22b",
   "metadata": {},
   "outputs": [
    {
     "name": "stdout",
     "output_type": "stream",
     "text": [
      "<class 'pandas.core.frame.DataFrame'>\n",
      "Int64Index: 668 entries, 299 to 103\n",
      "Data columns (total 11 columns):\n",
      " #   Column      Non-Null Count  Dtype  \n",
      "---  ------      --------------  -----  \n",
      " 0   Sex         668 non-null    int32  \n",
      " 1   Age         668 non-null    float64\n",
      " 2   SibSp       668 non-null    int64  \n",
      " 3   Parch       668 non-null    int64  \n",
      " 4   Fare        668 non-null    float64\n",
      " 5   Embarked_C  668 non-null    uint8  \n",
      " 6   Embarked_Q  668 non-null    uint8  \n",
      " 7   Embarked_S  668 non-null    uint8  \n",
      " 8   Pclass_1    668 non-null    uint8  \n",
      " 9   Pclass_2    668 non-null    uint8  \n",
      " 10  Pclass_3    668 non-null    uint8  \n",
      "dtypes: float64(2), int32(1), int64(2), uint8(6)\n",
      "memory usage: 32.6 KB\n"
     ]
    }
   ],
   "source": [
    "X_train.info()"
   ]
  },
  {
   "cell_type": "markdown",
   "id": "22df6fa9",
   "metadata": {},
   "source": [
    "Все признаки - числовые, по этому мы можем построить модель используя все признаки"
   ]
  },
  {
   "cell_type": "code",
   "execution_count": 36,
   "id": "f9799184",
   "metadata": {},
   "outputs": [],
   "source": [
    "lr = LogisticRegression()"
   ]
  },
  {
   "cell_type": "code",
   "execution_count": 37,
   "id": "a9254948",
   "metadata": {},
   "outputs": [
    {
     "data": {
      "text/plain": [
       "LogisticRegression()"
      ]
     },
     "execution_count": 37,
     "metadata": {},
     "output_type": "execute_result"
    }
   ],
   "source": [
    "lr.fit(X_train, y_train)"
   ]
  },
  {
   "cell_type": "code",
   "execution_count": 38,
   "id": "5ec0811f",
   "metadata": {},
   "outputs": [],
   "source": [
    "y_pred = lr.predict(X_valid)"
   ]
  },
  {
   "cell_type": "code",
   "execution_count": 39,
   "id": "1dd90718",
   "metadata": {},
   "outputs": [
    {
     "data": {
      "text/plain": [
       "array([0, 0, 0, 1, 1, 1, 1, 0, 1, 1, 0, 0, 0, 0, 0, 1, 0, 1, 0, 0, 0, 0,\n",
       "       1, 0, 0, 0, 0, 0, 0, 1, 0, 1, 1, 1, 0, 0, 0, 1, 1, 0, 0, 0, 0, 0,\n",
       "       1, 0, 0, 0, 0, 0, 1, 1, 0, 1, 0, 1, 0, 1, 1, 1, 0, 1, 1, 0, 0, 1,\n",
       "       0, 0, 0, 1, 1, 1, 1, 1, 0, 0, 1, 1, 1, 0, 0, 1, 1, 0, 0, 0, 1, 1,\n",
       "       0, 0, 0, 0, 0, 0, 0, 0, 0, 0, 1, 0, 0, 0, 1, 0, 0, 0, 1, 0, 0, 0,\n",
       "       1, 0, 1, 0, 1, 0, 0, 0, 1, 0, 0, 1, 1, 0, 0, 0, 1, 1, 1, 0, 1, 0,\n",
       "       0, 1, 0, 1, 1, 0, 0, 1, 0, 1, 0, 0, 0, 1, 0, 0, 1, 0, 0, 0, 0, 1,\n",
       "       0, 0, 0, 1, 1, 1, 0, 0, 0, 1, 0, 0, 0, 1, 0, 0, 1, 1, 0, 1, 0, 0,\n",
       "       0, 1, 1, 0, 0, 0, 0, 0, 1, 0, 0, 0, 0, 1, 0, 0, 0, 0, 1, 1, 1, 0,\n",
       "       1, 0, 0, 1, 1, 0, 0, 1, 0, 0, 0, 0, 1, 0, 1, 0, 0, 0, 1, 0, 1, 0,\n",
       "       0, 1, 0], dtype=int64)"
      ]
     },
     "execution_count": 39,
     "metadata": {},
     "output_type": "execute_result"
    }
   ],
   "source": [
    "y_pred"
   ]
  },
  {
   "cell_type": "markdown",
   "id": "2cba9c77",
   "metadata": {},
   "source": [
    "Метрика Accuracy (доля правильных ответов)"
   ]
  },
  {
   "cell_type": "code",
   "execution_count": 40,
   "id": "2c86c873",
   "metadata": {},
   "outputs": [],
   "source": [
    "from sklearn.metrics import accuracy_score"
   ]
  },
  {
   "cell_type": "code",
   "execution_count": 41,
   "id": "619e04b6",
   "metadata": {},
   "outputs": [
    {
     "data": {
      "text/plain": [
       "0.8026905829596412"
      ]
     },
     "execution_count": 41,
     "metadata": {},
     "output_type": "execute_result"
    }
   ],
   "source": [
    "accuracy_score(y_valid, y_pred)"
   ]
  },
  {
   "cell_type": "markdown",
   "id": "20941c45",
   "metadata": {},
   "source": [
    "Можно сравнить с Accuracy на тренировочном дата сете"
   ]
  },
  {
   "cell_type": "code",
   "execution_count": 42,
   "id": "216641d8",
   "metadata": {},
   "outputs": [],
   "source": [
    "y_pred_train = lr.predict(X_train)"
   ]
  },
  {
   "cell_type": "code",
   "execution_count": 43,
   "id": "912b9474",
   "metadata": {},
   "outputs": [
    {
     "data": {
      "text/plain": [
       "0.8083832335329342"
      ]
     },
     "execution_count": 43,
     "metadata": {},
     "output_type": "execute_result"
    }
   ],
   "source": [
    "accuracy_score(y_train, y_pred_train)"
   ]
  },
  {
   "cell_type": "markdown",
   "id": "852400ad",
   "metadata": {},
   "source": [
    "Вычисление вероятности событий"
   ]
  },
  {
   "cell_type": "code",
   "execution_count": 44,
   "id": "81f01d41",
   "metadata": {},
   "outputs": [],
   "source": [
    "y_proba = lr.predict_proba(X_valid)"
   ]
  },
  {
   "cell_type": "code",
   "execution_count": 45,
   "id": "8e7bcabc",
   "metadata": {},
   "outputs": [
    {
     "data": {
      "text/plain": [
       "array([[0.88803847, 0.11196153],\n",
       "       [0.7306994 , 0.2693006 ],\n",
       "       [0.87015651, 0.12984349],\n",
       "       [0.08991937, 0.91008063],\n",
       "       [0.25062015, 0.74937985],\n",
       "       [0.07826308, 0.92173692],\n",
       "       [0.33446957, 0.66553043],\n",
       "       [0.9052244 , 0.0947756 ],\n",
       "       [0.24542474, 0.75457526],\n",
       "       [0.10340605, 0.89659395],\n",
       "       [0.69433675, 0.30566325],\n",
       "       [0.93487212, 0.06512788],\n",
       "       [0.62484707, 0.37515293],\n",
       "       [0.84761359, 0.15238641],\n",
       "       [0.75859308, 0.24140692],\n",
       "       [0.07898047, 0.92101953],\n",
       "       [0.72748705, 0.27251295],\n",
       "       [0.3343849 , 0.6656151 ],\n",
       "       [0.70247546, 0.29752454],\n",
       "       [0.70651163, 0.29348837],\n",
       "       [0.88386345, 0.11613655],\n",
       "       [0.64286509, 0.35713491],\n",
       "       [0.39821922, 0.60178078],\n",
       "       [0.8694494 , 0.1305506 ],\n",
       "       [0.89833287, 0.10166713],\n",
       "       [0.92821101, 0.07178899],\n",
       "       [0.56597441, 0.43402559],\n",
       "       [0.72832999, 0.27167001],\n",
       "       [0.91442869, 0.08557131],\n",
       "       [0.42638414, 0.57361586],\n",
       "       [0.86654162, 0.13345838],\n",
       "       [0.35847562, 0.64152438],\n",
       "       [0.48100121, 0.51899879],\n",
       "       [0.41666522, 0.58333478],\n",
       "       [0.86273767, 0.13726233],\n",
       "       [0.86423028, 0.13576972],\n",
       "       [0.58764896, 0.41235104],\n",
       "       [0.33446957, 0.66553043],\n",
       "       [0.06807562, 0.93192438],\n",
       "       [0.90119358, 0.09880642],\n",
       "       [0.71253279, 0.28746721],\n",
       "       [0.92109508, 0.07890492],\n",
       "       [0.90112761, 0.09887239],\n",
       "       [0.86537364, 0.13462636],\n",
       "       [0.43710561, 0.56289439],\n",
       "       [0.91111172, 0.08888828],\n",
       "       [0.86639574, 0.13360426],\n",
       "       [0.87988996, 0.12011004],\n",
       "       [0.88427981, 0.11572019],\n",
       "       [0.66870939, 0.33129061],\n",
       "       [0.26566214, 0.73433786],\n",
       "       [0.21285968, 0.78714032],\n",
       "       [0.96298626, 0.03701374],\n",
       "       [0.48735374, 0.51264626],\n",
       "       [0.95175076, 0.04824924],\n",
       "       [0.07958272, 0.92041728],\n",
       "       [0.73690369, 0.26309631],\n",
       "       [0.05298537, 0.94701463],\n",
       "       [0.18635007, 0.81364993],\n",
       "       [0.26337579, 0.73662421],\n",
       "       [0.87378272, 0.12621728],\n",
       "       [0.11635229, 0.88364771],\n",
       "       [0.18917577, 0.81082423],\n",
       "       [0.61164067, 0.38835933],\n",
       "       [0.86537364, 0.13462636],\n",
       "       [0.32636271, 0.67363729],\n",
       "       [0.59337753, 0.40662247],\n",
       "       [0.89920762, 0.10079238],\n",
       "       [0.84631692, 0.15368308],\n",
       "       [0.13239035, 0.86760965],\n",
       "       [0.20087245, 0.79912755],\n",
       "       [0.03546013, 0.96453987],\n",
       "       [0.45259651, 0.54740349],\n",
       "       [0.10171142, 0.89828858],\n",
       "       [0.88058405, 0.11941595],\n",
       "       [0.93331822, 0.06668178],\n",
       "       [0.34015581, 0.65984419],\n",
       "       [0.06395438, 0.93604562],\n",
       "       [0.207479  , 0.792521  ],\n",
       "       [0.55916008, 0.44083992],\n",
       "       [0.94376431, 0.05623569],\n",
       "       [0.16602725, 0.83397275],\n",
       "       [0.08369349, 0.91630651],\n",
       "       [0.86538064, 0.13461936],\n",
       "       [0.68121594, 0.31878406],\n",
       "       [0.75868296, 0.24131704],\n",
       "       [0.06208462, 0.93791538],\n",
       "       [0.06058705, 0.93941295],\n",
       "       [0.69896977, 0.30103023],\n",
       "       [0.90146943, 0.09853057],\n",
       "       [0.85427487, 0.14572513],\n",
       "       [0.55669105, 0.44330895],\n",
       "       [0.80497864, 0.19502136],\n",
       "       [0.86538528, 0.13461472],\n",
       "       [0.90119358, 0.09880642],\n",
       "       [0.89630139, 0.10369861],\n",
       "       [0.76407472, 0.23592528],\n",
       "       [0.93677954, 0.06322046],\n",
       "       [0.19722725, 0.80277275],\n",
       "       [0.89329274, 0.10670726],\n",
       "       [0.82395199, 0.17604801],\n",
       "       [0.91549329, 0.08450671],\n",
       "       [0.04789295, 0.95210705],\n",
       "       [0.92260518, 0.07739482],\n",
       "       [0.90337108, 0.09662892],\n",
       "       [0.91106957, 0.08893043],\n",
       "       [0.2692152 , 0.7307848 ],\n",
       "       [0.71977462, 0.28022538],\n",
       "       [0.90135834, 0.09864166],\n",
       "       [0.56210141, 0.43789859],\n",
       "       [0.12402671, 0.87597329],\n",
       "       [0.87230193, 0.12769807],\n",
       "       [0.06658404, 0.93341596],\n",
       "       [0.65759799, 0.34240201],\n",
       "       [0.38071844, 0.61928156],\n",
       "       [0.86911057, 0.13088943],\n",
       "       [0.77149973, 0.22850027],\n",
       "       [0.65435799, 0.34564201],\n",
       "       [0.17912129, 0.82087871],\n",
       "       [0.6889055 , 0.3110945 ],\n",
       "       [0.80330625, 0.19669375],\n",
       "       [0.05893104, 0.94106896],\n",
       "       [0.26468062, 0.73531938],\n",
       "       [0.55653832, 0.44346168],\n",
       "       [0.88739468, 0.11260532],\n",
       "       [0.52803393, 0.47196607],\n",
       "       [0.18520892, 0.81479108],\n",
       "       [0.37988757, 0.62011243],\n",
       "       [0.3515792 , 0.6484208 ],\n",
       "       [0.87363697, 0.12636303],\n",
       "       [0.33433145, 0.66566855],\n",
       "       [0.88803847, 0.11196153],\n",
       "       [0.73248884, 0.26751116],\n",
       "       [0.24146694, 0.75853306],\n",
       "       [0.66282457, 0.33717543],\n",
       "       [0.25370013, 0.74629987],\n",
       "       [0.04698154, 0.95301846],\n",
       "       [0.89925115, 0.10074885],\n",
       "       [0.93105006, 0.06894994],\n",
       "       [0.37932255, 0.62067745],\n",
       "       [0.87343359, 0.12656641],\n",
       "       [0.27945524, 0.72054476],\n",
       "       [0.70907109, 0.29092891],\n",
       "       [0.79886082, 0.20113918],\n",
       "       [0.5485891 , 0.4514109 ],\n",
       "       [0.23903705, 0.76096295],\n",
       "       [0.7219998 , 0.2780002 ],\n",
       "       [0.89185994, 0.10814006],\n",
       "       [0.0513602 , 0.9486398 ],\n",
       "       [0.93291126, 0.06708874],\n",
       "       [0.84544379, 0.15455621],\n",
       "       [0.88406052, 0.11593948],\n",
       "       [0.86288219, 0.13711781],\n",
       "       [0.3770886 , 0.6229114 ],\n",
       "       [0.90112761, 0.09887239],\n",
       "       [0.90155473, 0.09844527],\n",
       "       [0.87837437, 0.12162563],\n",
       "       [0.33442948, 0.66557052],\n",
       "       [0.23124936, 0.76875064],\n",
       "       [0.43800973, 0.56199027],\n",
       "       [0.81899083, 0.18100917],\n",
       "       [0.61092736, 0.38907264],\n",
       "       [0.77561114, 0.22438886],\n",
       "       [0.0686839 , 0.9313161 ],\n",
       "       [0.8649768 , 0.1350232 ],\n",
       "       [0.73750199, 0.26249801],\n",
       "       [0.67788505, 0.32211495],\n",
       "       [0.12409848, 0.87590152],\n",
       "       [0.87718187, 0.12281813],\n",
       "       [0.91552116, 0.08447884],\n",
       "       [0.42368887, 0.57631113],\n",
       "       [0.15455023, 0.84544977],\n",
       "       [0.65748983, 0.34251017],\n",
       "       [0.24318347, 0.75681653],\n",
       "       [0.8594702 , 0.1405298 ],\n",
       "       [0.84637507, 0.15362493],\n",
       "       [0.68305061, 0.31694939],\n",
       "       [0.1197072 , 0.8802928 ],\n",
       "       [0.31135891, 0.68864109],\n",
       "       [0.71985261, 0.28014739],\n",
       "       [0.67525747, 0.32474253],\n",
       "       [0.90750129, 0.09249871],\n",
       "       [0.91357967, 0.08642033],\n",
       "       [0.53306523, 0.46693477],\n",
       "       [0.23858693, 0.76141307],\n",
       "       [0.7185368 , 0.2814632 ],\n",
       "       [0.64782417, 0.35217583],\n",
       "       [0.90119358, 0.09880642],\n",
       "       [0.60066194, 0.39933806],\n",
       "       [0.22914655, 0.77085345],\n",
       "       [0.93909252, 0.06090748],\n",
       "       [0.74138403, 0.25861597],\n",
       "       [0.88856064, 0.11143936],\n",
       "       [0.89849802, 0.10150198],\n",
       "       [0.29246913, 0.70753087],\n",
       "       [0.12249792, 0.87750208],\n",
       "       [0.03535011, 0.96464989],\n",
       "       [0.7467693 , 0.2532307 ],\n",
       "       [0.0845388 , 0.9154612 ],\n",
       "       [0.57230694, 0.42769306],\n",
       "       [0.96131072, 0.03868928],\n",
       "       [0.41768968, 0.58231032],\n",
       "       [0.10789887, 0.89210113],\n",
       "       [0.67072682, 0.32927318],\n",
       "       [0.80192263, 0.19807737],\n",
       "       [0.34551007, 0.65448993],\n",
       "       [0.89850533, 0.10149467],\n",
       "       [0.67775665, 0.32224335],\n",
       "       [0.84180314, 0.15819686],\n",
       "       [0.9455578 , 0.0544422 ],\n",
       "       [0.3199308 , 0.6800692 ],\n",
       "       [0.90231505, 0.09768495],\n",
       "       [0.08446966, 0.91553034],\n",
       "       [0.86538763, 0.13461237],\n",
       "       [0.62484707, 0.37515293],\n",
       "       [0.90026336, 0.09973664],\n",
       "       [0.19281432, 0.80718568],\n",
       "       [0.64364593, 0.35635407],\n",
       "       [0.15742689, 0.84257311],\n",
       "       [0.90146943, 0.09853057],\n",
       "       [0.90119358, 0.09880642],\n",
       "       [0.14370257, 0.85629743],\n",
       "       [0.89868834, 0.10131166]])"
      ]
     },
     "execution_count": 45,
     "metadata": {},
     "output_type": "execute_result"
    }
   ],
   "source": [
    "y_proba"
   ]
  },
  {
   "cell_type": "markdown",
   "id": "29c71fad",
   "metadata": {},
   "source": [
    "Нас интересует вероятность события 1 (правй столбец)\n",
    "\n",
    "при получении ответа значение из него округляются до 0 или до 1\n",
    "\n",
    "\n",
    "Сохраним данные"
   ]
  },
  {
   "cell_type": "code",
   "execution_count": 46,
   "id": "05c82a5e",
   "metadata": {},
   "outputs": [],
   "source": [
    "X_train.to_pickle('X_train.pkl')\n",
    "y_train.to_pickle('y_train.pkl')\n",
    "\n",
    "X_valid.to_pickle('X_valid.pkl')\n",
    "y_valid.to_pickle('y_valid.pkl')"
   ]
  },
  {
   "cell_type": "code",
   "execution_count": null,
   "id": "52afe4e4",
   "metadata": {},
   "outputs": [],
   "source": []
  }
 ],
 "metadata": {
  "kernelspec": {
   "display_name": "Python 3 (ipykernel)",
   "language": "python",
   "name": "python3"
  },
  "language_info": {
   "codemirror_mode": {
    "name": "ipython",
    "version": 3
   },
   "file_extension": ".py",
   "mimetype": "text/x-python",
   "name": "python",
   "nbconvert_exporter": "python",
   "pygments_lexer": "ipython3",
   "version": "3.10.1"
  }
 },
 "nbformat": 4,
 "nbformat_minor": 5
}
