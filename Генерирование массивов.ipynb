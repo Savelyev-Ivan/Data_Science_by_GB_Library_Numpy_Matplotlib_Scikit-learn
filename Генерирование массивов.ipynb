{
 "cells": [
  {
   "cell_type": "code",
   "execution_count": 1,
   "id": "fc98924d",
   "metadata": {},
   "outputs": [],
   "source": [
    "import numpy as np"
   ]
  },
  {
   "cell_type": "markdown",
   "id": "a22174cd",
   "metadata": {},
   "source": [
    "### Автоматическое создание массивов"
   ]
  },
  {
   "cell_type": "code",
   "execution_count": 2,
   "id": "c9439195",
   "metadata": {},
   "outputs": [
    {
     "data": {
      "text/plain": [
       "array([[0., 0., 0., 0.],\n",
       "       [0., 0., 0., 0.],\n",
       "       [0., 0., 0., 0.]])"
      ]
     },
     "execution_count": 2,
     "metadata": {},
     "output_type": "execute_result"
    }
   ],
   "source": [
    "a = np.zeros((3, 4))\n",
    "a"
   ]
  },
  {
   "cell_type": "code",
   "execution_count": 3,
   "id": "e19941f1",
   "metadata": {},
   "outputs": [
    {
     "data": {
      "text/plain": [
       "array([[1., 1., 1.],\n",
       "       [1., 1., 1.],\n",
       "       [1., 1., 1.],\n",
       "       [1., 1., 1.],\n",
       "       [1., 1., 1.]])"
      ]
     },
     "execution_count": 3,
     "metadata": {},
     "output_type": "execute_result"
    }
   ],
   "source": [
    "a = np.ones((5, 3))\n",
    "a"
   ]
  },
  {
   "cell_type": "code",
   "execution_count": 4,
   "id": "634982ce",
   "metadata": {},
   "outputs": [
    {
     "data": {
      "text/plain": [
       "array([0, 1, 2, 3, 4, 5, 6, 7, 8, 9])"
      ]
     },
     "execution_count": 4,
     "metadata": {},
     "output_type": "execute_result"
    }
   ],
   "source": [
    "np.arange(10)"
   ]
  },
  {
   "cell_type": "markdown",
   "id": "a54aee2c",
   "metadata": {},
   "source": [
    "По умолчанию ряд чисел начинается с 0, но можно явно задать начало последовательности:"
   ]
  },
  {
   "cell_type": "code",
   "execution_count": 5,
   "id": "50ca10dd",
   "metadata": {},
   "outputs": [
    {
     "data": {
      "text/plain": [
       "array([0, 1, 2, 3, 4, 5, 6, 7, 8, 9])"
      ]
     },
     "execution_count": 5,
     "metadata": {},
     "output_type": "execute_result"
    }
   ],
   "source": [
    "np.arange(0, 10)"
   ]
  },
  {
   "cell_type": "markdown",
   "id": "dadae4e9",
   "metadata": {},
   "source": [
    "Последовательность с шагом 2"
   ]
  },
  {
   "cell_type": "code",
   "execution_count": 6,
   "id": "092f5265",
   "metadata": {},
   "outputs": [
    {
     "data": {
      "text/plain": [
       "array([0, 2, 4, 6, 8])"
      ]
     },
     "execution_count": 6,
     "metadata": {},
     "output_type": "execute_result"
    }
   ],
   "source": [
    "np.arange(0, 10, 2)"
   ]
  },
  {
   "cell_type": "markdown",
   "id": "4d6dc885",
   "metadata": {},
   "source": [
    "В обратном порядке"
   ]
  },
  {
   "cell_type": "code",
   "execution_count": 7,
   "id": "c76ca043",
   "metadata": {},
   "outputs": [
    {
     "data": {
      "text/plain": [
       "array([10,  9,  8,  7,  6,  5,  4,  3,  2,  1])"
      ]
     },
     "execution_count": 7,
     "metadata": {},
     "output_type": "execute_result"
    }
   ],
   "source": [
    "np.arange(10, 0, -1)"
   ]
  },
  {
   "cell_type": "markdown",
   "id": "4d36dad2",
   "metadata": {},
   "source": [
    "В обратном порядке с шагом 2"
   ]
  },
  {
   "cell_type": "code",
   "execution_count": 8,
   "id": "21e1d39e",
   "metadata": {},
   "outputs": [
    {
     "data": {
      "text/plain": [
       "array([10,  8,  6,  4,  2])"
      ]
     },
     "execution_count": 8,
     "metadata": {},
     "output_type": "execute_result"
    }
   ],
   "source": [
    "np.arange(10, 0, -2)"
   ]
  },
  {
   "cell_type": "markdown",
   "id": "f0f43512",
   "metadata": {},
   "source": [
    "Дробный шаг"
   ]
  },
  {
   "cell_type": "code",
   "execution_count": 9,
   "id": "20310830",
   "metadata": {},
   "outputs": [
    {
     "data": {
      "text/plain": [
       "array([0. , 0.1, 0.2, 0.3, 0.4, 0.5, 0.6, 0.7, 0.8, 0.9, 1. , 1.1, 1.2,\n",
       "       1.3, 1.4, 1.5, 1.6, 1.7, 1.8, 1.9, 2. , 2.1, 2.2, 2.3, 2.4, 2.5,\n",
       "       2.6, 2.7, 2.8, 2.9, 3. , 3.1, 3.2, 3.3, 3.4, 3.5, 3.6, 3.7, 3.8,\n",
       "       3.9, 4. , 4.1, 4.2, 4.3, 4.4, 4.5, 4.6, 4.7, 4.8, 4.9, 5. , 5.1,\n",
       "       5.2, 5.3, 5.4, 5.5, 5.6, 5.7, 5.8, 5.9, 6. , 6.1, 6.2, 6.3, 6.4,\n",
       "       6.5, 6.6, 6.7, 6.8, 6.9, 7. , 7.1, 7.2, 7.3, 7.4, 7.5, 7.6, 7.7,\n",
       "       7.8, 7.9, 8. , 8.1, 8.2, 8.3, 8.4, 8.5, 8.6, 8.7, 8.8, 8.9, 9. ,\n",
       "       9.1, 9.2, 9.3, 9.4, 9.5, 9.6, 9.7, 9.8, 9.9])"
      ]
     },
     "execution_count": 9,
     "metadata": {},
     "output_type": "execute_result"
    }
   ],
   "source": [
    "np.arange(0, 10, 0.1)"
   ]
  },
  {
   "cell_type": "markdown",
   "id": "90d18abf",
   "metadata": {},
   "source": [
    "numpy.linspase - то же самое, но нужно учитывать, что правая граница будет включена. \n",
    "вместо шага указываем нужное количество элементов (100):\n"
   ]
  },
  {
   "cell_type": "code",
   "execution_count": 10,
   "id": "3b6d7ea4",
   "metadata": {},
   "outputs": [
    {
     "data": {
      "text/plain": [
       "array([0. , 0.1, 0.2, 0.3, 0.4, 0.5, 0.6, 0.7, 0.8, 0.9, 1. , 1.1, 1.2,\n",
       "       1.3, 1.4, 1.5, 1.6, 1.7, 1.8, 1.9, 2. , 2.1, 2.2, 2.3, 2.4, 2.5,\n",
       "       2.6, 2.7, 2.8, 2.9, 3. , 3.1, 3.2, 3.3, 3.4, 3.5, 3.6, 3.7, 3.8,\n",
       "       3.9, 4. , 4.1, 4.2, 4.3, 4.4, 4.5, 4.6, 4.7, 4.8, 4.9, 5. , 5.1,\n",
       "       5.2, 5.3, 5.4, 5.5, 5.6, 5.7, 5.8, 5.9, 6. , 6.1, 6.2, 6.3, 6.4,\n",
       "       6.5, 6.6, 6.7, 6.8, 6.9, 7. , 7.1, 7.2, 7.3, 7.4, 7.5, 7.6, 7.7,\n",
       "       7.8, 7.9, 8. , 8.1, 8.2, 8.3, 8.4, 8.5, 8.6, 8.7, 8.8, 8.9, 9. ,\n",
       "       9.1, 9.2, 9.3, 9.4, 9.5, 9.6, 9.7, 9.8, 9.9])"
      ]
     },
     "execution_count": 10,
     "metadata": {},
     "output_type": "execute_result"
    }
   ],
   "source": [
    "np.linspace(0, 9.9, 100)"
   ]
  },
  {
   "cell_type": "markdown",
   "id": "bd8ad54e",
   "metadata": {},
   "source": [
    "numpy.logspace - обе границы включены, но это не сами числа, а степени числа 10:"
   ]
  },
  {
   "cell_type": "code",
   "execution_count": 11,
   "id": "d5647818",
   "metadata": {},
   "outputs": [
    {
     "data": {
      "text/plain": [
       "array([   1.,   10.,  100., 1000.])"
      ]
     },
     "execution_count": 11,
     "metadata": {},
     "output_type": "execute_result"
    }
   ],
   "source": [
    "np.logspace(0, 3, 4)"
   ]
  },
  {
   "cell_type": "markdown",
   "id": "f3929836",
   "metadata": {},
   "source": [
    "Генерирование случайных чисел"
   ]
  },
  {
   "cell_type": "markdown",
   "id": "91d21bef",
   "metadata": {},
   "source": [
    "numpy.random.sample - случайные числа с равномерным распределением в промежутке [0.0, 1.0)\n",
    "                                                                                 \n",
    "                                                                                 \n",
    "Случайное число"
   ]
  },
  {
   "cell_type": "code",
   "execution_count": 12,
   "id": "bbf5e964",
   "metadata": {},
   "outputs": [
    {
     "data": {
      "text/plain": [
       "0.20595397850892372"
      ]
     },
     "execution_count": 12,
     "metadata": {},
     "output_type": "execute_result"
    }
   ],
   "source": [
    "np.random.sample()"
   ]
  },
  {
   "cell_type": "markdown",
   "id": "35debfe5",
   "metadata": {},
   "source": [
    "Одномерный массив из 3-х чисел"
   ]
  },
  {
   "cell_type": "code",
   "execution_count": 13,
   "id": "5488a263",
   "metadata": {},
   "outputs": [
    {
     "data": {
      "text/plain": [
       "array([0.11019535, 0.40407839, 0.20554709])"
      ]
     },
     "execution_count": 13,
     "metadata": {},
     "output_type": "execute_result"
    }
   ],
   "source": [
    "np.random.sample(3)"
   ]
  },
  {
   "cell_type": "markdown",
   "id": "87162827",
   "metadata": {},
   "source": [
    "Двумерный массив 2х3"
   ]
  },
  {
   "cell_type": "code",
   "execution_count": 14,
   "id": "2c6aa97e",
   "metadata": {},
   "outputs": [
    {
     "data": {
      "text/plain": [
       "array([[0.87341829, 0.92576919, 0.80535947],\n",
       "       [0.68638223, 0.19455651, 0.67206375]])"
      ]
     },
     "execution_count": 14,
     "metadata": {},
     "output_type": "execute_result"
    }
   ],
   "source": [
    "np.random.sample((2, 3))"
   ]
  },
  {
   "cell_type": "markdown",
   "id": "f403cfee",
   "metadata": {},
   "source": [
    "Массив 48х64х3"
   ]
  },
  {
   "cell_type": "markdown",
   "id": "137c1188",
   "metadata": {},
   "source": [
    "(например, это может быть случайное изображение с высотой 48, шириной 64 и значениями яркости трех цветов для каждого пикселя)"
   ]
  },
  {
   "cell_type": "code",
   "execution_count": 15,
   "id": "6f0bf79b",
   "metadata": {},
   "outputs": [
    {
     "data": {
      "text/plain": [
       "array([[[0.3299782 , 0.35151802, 0.54724952],\n",
       "        [0.59492424, 0.2569284 , 0.72054509],\n",
       "        [0.94785141, 0.11094772, 0.06219527],\n",
       "        ...,\n",
       "        [0.93626943, 0.28355347, 0.37966377],\n",
       "        [0.85547922, 0.22043796, 0.2973802 ],\n",
       "        [0.1596027 , 0.90130261, 0.50451248]],\n",
       "\n",
       "       [[0.87520824, 0.65806906, 0.92041587],\n",
       "        [0.88788604, 0.9487206 , 0.33579132],\n",
       "        [0.47347112, 0.81093395, 0.39232339],\n",
       "        ...,\n",
       "        [0.83387177, 0.23813816, 0.53504039],\n",
       "        [0.18016692, 0.11518773, 0.92883769],\n",
       "        [0.45955308, 0.78938193, 0.27857217]],\n",
       "\n",
       "       [[0.73731197, 0.42463542, 0.79691652],\n",
       "        [0.53899921, 0.54252574, 0.21678398],\n",
       "        [0.19827747, 0.07940949, 0.84073341],\n",
       "        ...,\n",
       "        [0.90748445, 0.41517259, 0.52492647],\n",
       "        [0.21060942, 0.21013719, 0.97483957],\n",
       "        [0.0582251 , 0.49866297, 0.1633589 ]],\n",
       "\n",
       "       ...,\n",
       "\n",
       "       [[0.44106631, 0.7336233 , 0.49617762],\n",
       "        [0.57691725, 0.50151708, 0.7335697 ],\n",
       "        [0.61712771, 0.014116  , 0.57315336],\n",
       "        ...,\n",
       "        [0.4331971 , 0.9362313 , 0.86048697],\n",
       "        [0.85233145, 0.14862986, 0.13830885],\n",
       "        [0.53184365, 0.36985076, 0.9378011 ]],\n",
       "\n",
       "       [[0.29577578, 0.07382733, 0.29570231],\n",
       "        [0.50519346, 0.30618298, 0.79159247],\n",
       "        [0.45300405, 0.42224792, 0.92285338],\n",
       "        ...,\n",
       "        [0.65304882, 0.76069197, 0.68142845],\n",
       "        [0.11077207, 0.89060501, 0.71806706],\n",
       "        [0.63936984, 0.83132735, 0.03983159]],\n",
       "\n",
       "       [[0.02638754, 0.32293526, 0.286734  ],\n",
       "        [0.36019476, 0.60930945, 0.57261747],\n",
       "        [0.39298716, 0.38557633, 0.18280697],\n",
       "        ...,\n",
       "        [0.28120577, 0.78353924, 0.29905461],\n",
       "        [0.41750069, 0.19453009, 0.57990906],\n",
       "        [0.81245451, 0.97632708, 0.86562305]]])"
      ]
     },
     "execution_count": 15,
     "metadata": {},
     "output_type": "execute_result"
    }
   ],
   "source": [
    "np.random.sample((48, 64, 3))"
   ]
  },
  {
   "cell_type": "markdown",
   "id": "87ae50cb",
   "metadata": {},
   "source": [
    "numpy.random.randn - случайные числа с нормальным распределением\n",
    "(среднее значение = 0, среднеквадратичное отклонение = 1)"
   ]
  },
  {
   "cell_type": "code",
   "execution_count": 16,
   "id": "a9d0c9b5",
   "metadata": {},
   "outputs": [
    {
     "data": {
      "text/plain": [
       "array([ 0.75372664, -0.07842437, -0.22783787, -0.30513248, -1.34612611,\n",
       "        0.0160347 ,  0.16640012,  0.87220543, -1.89574897,  1.72238548])"
      ]
     },
     "execution_count": 16,
     "metadata": {},
     "output_type": "execute_result"
    }
   ],
   "source": [
    "np.random.randn(10)"
   ]
  },
  {
   "cell_type": "code",
   "execution_count": 17,
   "id": "47b4723a",
   "metadata": {},
   "outputs": [
    {
     "data": {
      "text/plain": [
       "array([[-1.03589564,  1.34410223, -1.48136176,  0.29013939],\n",
       "       [-0.09417364,  0.67917407,  0.26626939,  0.31030577],\n",
       "       [ 0.25213212,  0.42986113,  1.15043551,  0.2453045 ]])"
      ]
     },
     "execution_count": 17,
     "metadata": {},
     "output_type": "execute_result"
    }
   ],
   "source": [
    "np.random.randn(3, 4)"
   ]
  },
  {
   "cell_type": "markdown",
   "id": "b6896fc7",
   "metadata": {},
   "source": [
    "numpy.random.randint - массив целых чисел\n",
    "\n",
    "Например, одномерный массив из 10 случайных целых чисел в промежутке [0, 100)"
   ]
  },
  {
   "cell_type": "code",
   "execution_count": 18,
   "id": "0fad930a",
   "metadata": {},
   "outputs": [
    {
     "data": {
      "text/plain": [
       "array([27, 35, 28, 23, 39, 11, 78, 31, 57, 30])"
      ]
     },
     "execution_count": 18,
     "metadata": {},
     "output_type": "execute_result"
    }
   ],
   "source": [
    "np.random.randint(0, 100, 10)"
   ]
  },
  {
   "cell_type": "markdown",
   "id": "76558117",
   "metadata": {},
   "source": [
    "Двумерный массив 3х4 из случайных целых чисел в промежутке [0, 10)"
   ]
  },
  {
   "cell_type": "code",
   "execution_count": 19,
   "id": "2464ba12",
   "metadata": {},
   "outputs": [
    {
     "data": {
      "text/plain": [
       "array([[6, 8, 1, 2],\n",
       "       [1, 7, 0, 5],\n",
       "       [7, 9, 6, 0]])"
      ]
     },
     "execution_count": 19,
     "metadata": {},
     "output_type": "execute_result"
    }
   ],
   "source": [
    "np.random.randint(0, 10, (3, 4))"
   ]
  },
  {
   "cell_type": "markdown",
   "id": "2b2a16a9",
   "metadata": {},
   "source": [
    "**numpy.random.choice** Случайный выбор элементов массива"
   ]
  },
  {
   "cell_type": "code",
   "execution_count": 20,
   "id": "87f05497",
   "metadata": {},
   "outputs": [],
   "source": [
    "b = np.array([1, 4, 6, 12, 55, 6, 23, 67])"
   ]
  },
  {
   "cell_type": "code",
   "execution_count": 21,
   "id": "6d510870",
   "metadata": {},
   "outputs": [
    {
     "data": {
      "text/plain": [
       "1"
      ]
     },
     "execution_count": 21,
     "metadata": {},
     "output_type": "execute_result"
    }
   ],
   "source": [
    "np.random.choice(b)"
   ]
  },
  {
   "cell_type": "code",
   "execution_count": 22,
   "id": "ac95ee1e",
   "metadata": {},
   "outputs": [
    {
     "data": {
      "text/plain": [
       "array([23, 23, 67])"
      ]
     },
     "execution_count": 22,
     "metadata": {},
     "output_type": "execute_result"
    }
   ],
   "source": [
    "np.random.choice(b, 3)"
   ]
  },
  {
   "cell_type": "markdown",
   "id": "2a712218",
   "metadata": {},
   "source": [
    "**numpy.random.seed** - инициализация генератора случайных чисел.\n",
    "\n",
    "Может использоваться для последующей воспроизводимости (будут генерироваться те же числа, если установить одинаковый seed)"
   ]
  },
  {
   "cell_type": "code",
   "execution_count": 23,
   "id": "bfa9d2d3",
   "metadata": {},
   "outputs": [],
   "source": [
    "np.random.seed(42)"
   ]
  },
  {
   "cell_type": "code",
   "execution_count": 26,
   "id": "996656b2",
   "metadata": {},
   "outputs": [
    {
     "data": {
      "text/plain": [
       "array([2, 6, 7])"
      ]
     },
     "execution_count": 26,
     "metadata": {},
     "output_type": "execute_result"
    }
   ],
   "source": [
    "np.random.randint(0, 10, 3)"
   ]
  },
  {
   "cell_type": "markdown",
   "id": "ea511a90",
   "metadata": {},
   "source": [
    "Изменение формы массива"
   ]
  },
  {
   "cell_type": "code",
   "execution_count": 27,
   "id": "026d2c49",
   "metadata": {},
   "outputs": [
    {
     "data": {
      "text/plain": [
       "array([ 0,  1,  2,  3,  4,  5,  6,  7,  8,  9, 10, 11])"
      ]
     },
     "execution_count": 27,
     "metadata": {},
     "output_type": "execute_result"
    }
   ],
   "source": [
    "a = np.arange(12)\n",
    "a"
   ]
  },
  {
   "cell_type": "code",
   "execution_count": 28,
   "id": "b63834c7",
   "metadata": {},
   "outputs": [
    {
     "data": {
      "text/plain": [
       "array([[ 0,  1,  2,  3],\n",
       "       [ 4,  5,  6,  7],\n",
       "       [ 8,  9, 10, 11]])"
      ]
     },
     "execution_count": 28,
     "metadata": {},
     "output_type": "execute_result"
    }
   ],
   "source": [
    "a.reshape(3, 4)"
   ]
  },
  {
   "cell_type": "code",
   "execution_count": 31,
   "id": "32f8220d",
   "metadata": {},
   "outputs": [
    {
     "data": {
      "text/plain": [
       "array([ 0,  1,  2,  3,  4,  5,  6,  7,  8,  9, 10, 11])"
      ]
     },
     "execution_count": 31,
     "metadata": {},
     "output_type": "execute_result"
    }
   ],
   "source": [
    "a"
   ]
  },
  {
   "cell_type": "code",
   "execution_count": 30,
   "id": "676773cb",
   "metadata": {},
   "outputs": [
    {
     "data": {
      "text/plain": [
       "array([[ 0,  1,  2,  3],\n",
       "       [ 4,  5,  6,  7],\n",
       "       [ 8,  9, 10, 11]])"
      ]
     },
     "execution_count": 30,
     "metadata": {},
     "output_type": "execute_result"
    }
   ],
   "source": [
    "# Можно указать требуемое число строк, а вместо числа столбцов поставить -1\n",
    "np.reshape(a, (3, -1))"
   ]
  },
  {
   "cell_type": "code",
   "execution_count": 32,
   "id": "44ae1b0e",
   "metadata": {},
   "outputs": [
    {
     "data": {
      "text/plain": [
       "array([[ 0,  1,  2,  3],\n",
       "       [ 4,  5,  6,  7],\n",
       "       [ 8,  9, 10, 11]])"
      ]
     },
     "execution_count": 32,
     "metadata": {},
     "output_type": "execute_result"
    }
   ],
   "source": [
    "# Указать только число столбцов\n",
    "np.reshape(a, (-1, 4))"
   ]
  },
  {
   "cell_type": "code",
   "execution_count": 33,
   "id": "9d249e4e",
   "metadata": {},
   "outputs": [
    {
     "data": {
      "text/plain": [
       "array([ 0,  1,  2,  3,  4,  5,  6,  7,  8,  9, 10, 11])"
      ]
     },
     "execution_count": 33,
     "metadata": {},
     "output_type": "execute_result"
    }
   ],
   "source": [
    "a"
   ]
  },
  {
   "cell_type": "code",
   "execution_count": 34,
   "id": "e40068d8",
   "metadata": {},
   "outputs": [],
   "source": [
    "# inplace\n",
    "a.resize(3, 4)"
   ]
  },
  {
   "cell_type": "code",
   "execution_count": 35,
   "id": "8a4f26f0",
   "metadata": {},
   "outputs": [
    {
     "data": {
      "text/plain": [
       "array([[ 0,  1,  2,  3],\n",
       "       [ 4,  5,  6,  7],\n",
       "       [ 8,  9, 10, 11]])"
      ]
     },
     "execution_count": 35,
     "metadata": {},
     "output_type": "execute_result"
    }
   ],
   "source": [
    "a"
   ]
  },
  {
   "cell_type": "code",
   "execution_count": 36,
   "id": "bb51a4bf",
   "metadata": {},
   "outputs": [
    {
     "data": {
      "text/plain": [
       "array([ 0,  1,  2,  3,  4,  5,  6,  7,  8,  9, 10, 11])"
      ]
     },
     "execution_count": 36,
     "metadata": {},
     "output_type": "execute_result"
    }
   ],
   "source": [
    "a = a.flatten()\n",
    "a"
   ]
  },
  {
   "cell_type": "markdown",
   "id": "3f98472e",
   "metadata": {},
   "source": [
    "#### Соединение Массивов\n",
    "\n",
    "для наглядности возьмем два массива с нулями и единицами"
   ]
  },
  {
   "cell_type": "code",
   "execution_count": 38,
   "id": "60e8143c",
   "metadata": {},
   "outputs": [
    {
     "data": {
      "text/plain": [
       "array([[0., 0., 0.],\n",
       "       [0., 0., 0.]])"
      ]
     },
     "execution_count": 38,
     "metadata": {},
     "output_type": "execute_result"
    }
   ],
   "source": [
    "a = np.zeros((2, 3))\n",
    "a"
   ]
  },
  {
   "cell_type": "code",
   "execution_count": 39,
   "id": "128e9448",
   "metadata": {},
   "outputs": [
    {
     "data": {
      "text/plain": [
       "array([[1., 1., 1.],\n",
       "       [1., 1., 1.]])"
      ]
     },
     "execution_count": 39,
     "metadata": {},
     "output_type": "execute_result"
    }
   ],
   "source": [
    "b = np.ones((2, 3))\n",
    "b"
   ]
  },
  {
   "cell_type": "markdown",
   "id": "faf768cc",
   "metadata": {},
   "source": [
    "Соединение строк (вертикально)"
   ]
  },
  {
   "cell_type": "code",
   "execution_count": 40,
   "id": "96fa57d1",
   "metadata": {},
   "outputs": [
    {
     "data": {
      "text/plain": [
       "array([[0., 0., 0.],\n",
       "       [0., 0., 0.],\n",
       "       [1., 1., 1.],\n",
       "       [1., 1., 1.]])"
      ]
     },
     "execution_count": 40,
     "metadata": {},
     "output_type": "execute_result"
    }
   ],
   "source": [
    "v = np.vstack((a, b))\n",
    "v"
   ]
  },
  {
   "cell_type": "code",
   "execution_count": 41,
   "id": "66d68847",
   "metadata": {},
   "outputs": [
    {
     "data": {
      "text/plain": [
       "((2, 3), (2, 3), (4, 3))"
      ]
     },
     "execution_count": 41,
     "metadata": {},
     "output_type": "execute_result"
    }
   ],
   "source": [
    "a.shape, b.shape, v.shape"
   ]
  },
  {
   "cell_type": "code",
   "execution_count": 42,
   "id": "d8f72340",
   "metadata": {},
   "outputs": [
    {
     "data": {
      "text/plain": [
       "array([[0., 0., 0.],\n",
       "       [0., 0., 0.],\n",
       "       [1., 1., 1.],\n",
       "       [1., 1., 1.]])"
      ]
     },
     "execution_count": 42,
     "metadata": {},
     "output_type": "execute_result"
    }
   ],
   "source": [
    "np.concatenate((a, b), axis = 0)"
   ]
  },
  {
   "cell_type": "markdown",
   "id": "1eb07145",
   "metadata": {},
   "source": [
    "Соединение столбцов (горизонтально)"
   ]
  },
  {
   "cell_type": "code",
   "execution_count": 43,
   "id": "834842ac",
   "metadata": {},
   "outputs": [
    {
     "data": {
      "text/plain": [
       "array([[0., 0., 0., 1., 1., 1.],\n",
       "       [0., 0., 0., 1., 1., 1.]])"
      ]
     },
     "execution_count": 43,
     "metadata": {},
     "output_type": "execute_result"
    }
   ],
   "source": [
    "h = np.hstack((a, b))\n",
    "h"
   ]
  },
  {
   "cell_type": "code",
   "execution_count": 44,
   "id": "1fc89700",
   "metadata": {},
   "outputs": [
    {
     "data": {
      "text/plain": [
       "((2, 3), (2, 3), (2, 6))"
      ]
     },
     "execution_count": 44,
     "metadata": {},
     "output_type": "execute_result"
    }
   ],
   "source": [
    "a.shape, b.shape, h.shape"
   ]
  },
  {
   "cell_type": "code",
   "execution_count": 45,
   "id": "aea5210a",
   "metadata": {},
   "outputs": [
    {
     "data": {
      "text/plain": [
       "array([[0., 0., 0., 1., 1., 1.],\n",
       "       [0., 0., 0., 1., 1., 1.]])"
      ]
     },
     "execution_count": 45,
     "metadata": {},
     "output_type": "execute_result"
    }
   ],
   "source": [
    "np.concatenate((a, b), axis = 1)"
   ]
  },
  {
   "cell_type": "markdown",
   "id": "18cc5fbe",
   "metadata": {},
   "source": [
    "Соединение в глубину (третье измерение)"
   ]
  },
  {
   "cell_type": "code",
   "execution_count": 46,
   "id": "b1a26162",
   "metadata": {},
   "outputs": [
    {
     "data": {
      "text/plain": [
       "array([[[0., 1.],\n",
       "        [0., 1.],\n",
       "        [0., 1.]],\n",
       "\n",
       "       [[0., 1.],\n",
       "        [0., 1.],\n",
       "        [0., 1.]]])"
      ]
     },
     "execution_count": 46,
     "metadata": {},
     "output_type": "execute_result"
    }
   ],
   "source": [
    "d = np.dstack([a, b])\n",
    "d"
   ]
  },
  {
   "cell_type": "code",
   "execution_count": null,
   "id": "92d91170",
   "metadata": {},
   "outputs": [],
   "source": []
  }
 ],
 "metadata": {
  "kernelspec": {
   "display_name": "Python 3 (ipykernel)",
   "language": "python",
   "name": "python3"
  },
  "language_info": {
   "codemirror_mode": {
    "name": "ipython",
    "version": 3
   },
   "file_extension": ".py",
   "mimetype": "text/x-python",
   "name": "python",
   "nbconvert_exporter": "python",
   "pygments_lexer": "ipython3",
   "version": "3.10.1"
  }
 },
 "nbformat": 4,
 "nbformat_minor": 5
}
