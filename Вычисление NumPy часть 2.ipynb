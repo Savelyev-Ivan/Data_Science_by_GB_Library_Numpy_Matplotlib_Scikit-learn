{
 "cells": [
  {
   "cell_type": "code",
   "execution_count": 1,
   "id": "e524e609",
   "metadata": {},
   "outputs": [],
   "source": [
    "import numpy as np"
   ]
  },
  {
   "cell_type": "markdown",
   "id": "4be7cb88",
   "metadata": {},
   "source": [
    "#### Умножение матриц"
   ]
  },
  {
   "cell_type": "code",
   "execution_count": 2,
   "id": "0fb1fa0c",
   "metadata": {},
   "outputs": [],
   "source": [
    "X1 = np.array([[1, 2],\n",
    "              [3, 4],\n",
    "              [5, 6]])"
   ]
  },
  {
   "cell_type": "code",
   "execution_count": 3,
   "id": "b21a600f",
   "metadata": {},
   "outputs": [],
   "source": [
    "X2 = np.array([[7, 8, 9, 10],\n",
    "              [11, 12, 13, 14]])"
   ]
  },
  {
   "cell_type": "markdown",
   "id": "20b298e0",
   "metadata": {},
   "source": [
    "Число столбцов первой матрицы должно быть равно числу строк второй матрицы:"
   ]
  },
  {
   "cell_type": "code",
   "execution_count": 4,
   "id": "6af0afc8",
   "metadata": {},
   "outputs": [
    {
     "data": {
      "text/plain": [
       "((3, 2), (2, 4))"
      ]
     },
     "execution_count": 4,
     "metadata": {},
     "output_type": "execute_result"
    }
   ],
   "source": [
    "X1.shape, X2.shape"
   ]
  },
  {
   "cell_type": "code",
   "execution_count": 5,
   "id": "153693cc",
   "metadata": {},
   "outputs": [
    {
     "data": {
      "text/plain": [
       "array([[ 29,  32,  35,  38],\n",
       "       [ 65,  72,  79,  86],\n",
       "       [101, 112, 123, 134]])"
      ]
     },
     "execution_count": 5,
     "metadata": {},
     "output_type": "execute_result"
    }
   ],
   "source": [
    "Z = np.dot(X1, X2)\n",
    "Z"
   ]
  },
  {
   "cell_type": "code",
   "execution_count": 6,
   "id": "0760e4fa",
   "metadata": {},
   "outputs": [
    {
     "data": {
      "text/plain": [
       "(3, 4)"
      ]
     },
     "execution_count": 6,
     "metadata": {},
     "output_type": "execute_result"
    }
   ],
   "source": [
    "Z.shape"
   ]
  },
  {
   "cell_type": "markdown",
   "id": "aab1cb01",
   "metadata": {},
   "source": [
    "Как получен элемент матрицы Z нулевой строки и нулевого столбца:"
   ]
  },
  {
   "cell_type": "code",
   "execution_count": 7,
   "id": "5e5d5139",
   "metadata": {},
   "outputs": [
    {
     "data": {
      "text/plain": [
       "29"
      ]
     },
     "execution_count": 7,
     "metadata": {},
     "output_type": "execute_result"
    }
   ],
   "source": [
    "Z[0, 0]"
   ]
  },
  {
   "cell_type": "code",
   "execution_count": 8,
   "id": "4630a491",
   "metadata": {},
   "outputs": [
    {
     "data": {
      "text/plain": [
       "29"
      ]
     },
     "execution_count": 8,
     "metadata": {},
     "output_type": "execute_result"
    }
   ],
   "source": [
    "X1[0, 0] * X2[0, 0] + X1[0, 1] * X2[1, 0]"
   ]
  },
  {
   "cell_type": "markdown",
   "id": "36355dfe",
   "metadata": {},
   "source": [
    "Как получен элемент матрицы Z нулевой строки и нулевого столбца:"
   ]
  },
  {
   "cell_type": "code",
   "execution_count": 9,
   "id": "bb3f1ff5",
   "metadata": {},
   "outputs": [
    {
     "data": {
      "text/plain": [
       "32"
      ]
     },
     "execution_count": 9,
     "metadata": {},
     "output_type": "execute_result"
    }
   ],
   "source": [
    "Z[0, 1]"
   ]
  },
  {
   "cell_type": "code",
   "execution_count": 10,
   "id": "d78035a1",
   "metadata": {},
   "outputs": [
    {
     "data": {
      "text/plain": [
       "32"
      ]
     },
     "execution_count": 10,
     "metadata": {},
     "output_type": "execute_result"
    }
   ],
   "source": [
    "X1[0, 0] * X2[0, 1] + X1[0, 1] * X2[1, 1]"
   ]
  },
  {
   "cell_type": "markdown",
   "id": "a02b96bc",
   "metadata": {},
   "source": [
    "#### Модуль numpy.linalg: возведение матрицы в квадрат"
   ]
  },
  {
   "cell_type": "code",
   "execution_count": 11,
   "id": "07d47b22",
   "metadata": {},
   "outputs": [],
   "source": [
    "A = np.array([[0, 1, 2],\n",
    "             [3, 4, 5],\n",
    "             [6, 7, 8]])"
   ]
  },
  {
   "cell_type": "code",
   "execution_count": 12,
   "id": "c982aa9f",
   "metadata": {},
   "outputs": [
    {
     "data": {
      "text/plain": [
       "array([[ 15,  18,  21],\n",
       "       [ 42,  54,  66],\n",
       "       [ 69,  90, 111]])"
      ]
     },
     "execution_count": 12,
     "metadata": {},
     "output_type": "execute_result"
    }
   ],
   "source": [
    "A_square = np.dot(A, A)\n",
    "A_square"
   ]
  },
  {
   "cell_type": "code",
   "execution_count": 14,
   "id": "22429100",
   "metadata": {},
   "outputs": [
    {
     "data": {
      "text/plain": [
       "array([[ 15,  18,  21],\n",
       "       [ 42,  54,  66],\n",
       "       [ 69,  90, 111]])"
      ]
     },
     "execution_count": 14,
     "metadata": {},
     "output_type": "execute_result"
    }
   ],
   "source": [
    "A_square = np.linalg.matrix_power(A, 2)\n",
    "A_square"
   ]
  },
  {
   "cell_type": "markdown",
   "id": "aefcbdd1",
   "metadata": {},
   "source": [
    "### Создание единичной матрицы"
   ]
  },
  {
   "cell_type": "markdown",
   "id": "3f74e2af",
   "metadata": {},
   "source": [
    "Единичная матрица - квадратная матрица с единицами по главной диагонали и нулями в остальных ячейках"
   ]
  },
  {
   "cell_type": "code",
   "execution_count": 15,
   "id": "5a861fad",
   "metadata": {},
   "outputs": [
    {
     "data": {
      "text/plain": [
       "array([[1., 0., 0.],\n",
       "       [0., 1., 0.],\n",
       "       [0., 0., 1.]])"
      ]
     },
     "execution_count": 15,
     "metadata": {},
     "output_type": "execute_result"
    }
   ],
   "source": [
    "I = np.eye(3)\n",
    "I"
   ]
  },
  {
   "cell_type": "markdown",
   "id": "151f61ae",
   "metadata": {},
   "source": [
    "Умножение матрицы на единичную матрицу"
   ]
  },
  {
   "cell_type": "code",
   "execution_count": 16,
   "id": "47822250",
   "metadata": {},
   "outputs": [],
   "source": [
    "A = np.array([[1, 2],\n",
    "             [2, 3],\n",
    "             [3, 4]])"
   ]
  },
  {
   "cell_type": "markdown",
   "id": "7057e861",
   "metadata": {},
   "source": [
    "Случай 1"
   ]
  },
  {
   "cell_type": "code",
   "execution_count": 17,
   "id": "5e7b209c",
   "metadata": {},
   "outputs": [
    {
     "data": {
      "text/plain": [
       "array([[1., 0.],\n",
       "       [0., 1.]])"
      ]
     },
     "execution_count": 17,
     "metadata": {},
     "output_type": "execute_result"
    }
   ],
   "source": [
    "I = np.eye(2)\n",
    "I"
   ]
  },
  {
   "cell_type": "code",
   "execution_count": 18,
   "id": "5083c6f2",
   "metadata": {},
   "outputs": [
    {
     "data": {
      "text/plain": [
       "array([[1., 2.],\n",
       "       [2., 3.],\n",
       "       [3., 4.]])"
      ]
     },
     "execution_count": 18,
     "metadata": {},
     "output_type": "execute_result"
    }
   ],
   "source": [
    "np.dot(A, I)"
   ]
  },
  {
   "cell_type": "markdown",
   "id": "68fef534",
   "metadata": {},
   "source": [
    "Случай 2"
   ]
  },
  {
   "cell_type": "code",
   "execution_count": 19,
   "id": "53e4ad84",
   "metadata": {},
   "outputs": [
    {
     "data": {
      "text/plain": [
       "array([[1., 0., 0.],\n",
       "       [0., 1., 0.],\n",
       "       [0., 0., 1.]])"
      ]
     },
     "execution_count": 19,
     "metadata": {},
     "output_type": "execute_result"
    }
   ],
   "source": [
    "I = np.eye(3)\n",
    "I"
   ]
  },
  {
   "cell_type": "code",
   "execution_count": 20,
   "id": "c19a2b06",
   "metadata": {},
   "outputs": [
    {
     "data": {
      "text/plain": [
       "array([[1., 2.],\n",
       "       [2., 3.],\n",
       "       [3., 4.]])"
      ]
     },
     "execution_count": 20,
     "metadata": {},
     "output_type": "execute_result"
    }
   ],
   "source": [
    "np.dot(I, A)"
   ]
  },
  {
   "cell_type": "markdown",
   "id": "28eaa9c9",
   "metadata": {},
   "source": [
    "Транспонирование матрицы"
   ]
  },
  {
   "cell_type": "code",
   "execution_count": 21,
   "id": "e4294d8a",
   "metadata": {},
   "outputs": [],
   "source": [
    "A = np.array([[11, 13],\n",
    "             [16, 9],\n",
    "             [8, 15]])"
   ]
  },
  {
   "cell_type": "code",
   "execution_count": 22,
   "id": "f68d9c92",
   "metadata": {},
   "outputs": [
    {
     "data": {
      "text/plain": [
       "array([[11, 16,  8],\n",
       "       [13,  9, 15]])"
      ]
     },
     "execution_count": 22,
     "metadata": {},
     "output_type": "execute_result"
    }
   ],
   "source": [
    "At = A.transpose()\n",
    "At"
   ]
  },
  {
   "cell_type": "markdown",
   "id": "f7efc653",
   "metadata": {},
   "source": [
    "Альтернативный способ"
   ]
  },
  {
   "cell_type": "code",
   "execution_count": 23,
   "id": "43c2c39b",
   "metadata": {},
   "outputs": [
    {
     "data": {
      "text/plain": [
       "array([[11, 16,  8],\n",
       "       [13,  9, 15]])"
      ]
     },
     "execution_count": 23,
     "metadata": {},
     "output_type": "execute_result"
    }
   ],
   "source": [
    "At = A.T\n",
    "At"
   ]
  },
  {
   "cell_type": "markdown",
   "id": "f4d745a7",
   "metadata": {},
   "source": [
    "Рассмотрим матрицы X и Y:"
   ]
  },
  {
   "cell_type": "code",
   "execution_count": 25,
   "id": "ff825815",
   "metadata": {},
   "outputs": [],
   "source": [
    "X = np.array([[1, 2],\n",
    "             [3, 4],\n",
    "             [5, 6]])"
   ]
  },
  {
   "cell_type": "code",
   "execution_count": 26,
   "id": "4e2c9b3d",
   "metadata": {},
   "outputs": [],
   "source": [
    "Y = np.array([[0, 1],\n",
    "             [3, 4],\n",
    "             [6, 7],\n",
    "             [2, 5]])"
   ]
  },
  {
   "cell_type": "code",
   "execution_count": 27,
   "id": "c7400ebd",
   "metadata": {},
   "outputs": [
    {
     "data": {
      "text/plain": [
       "array([[0, 3, 6, 2],\n",
       "       [1, 4, 7, 5]])"
      ]
     },
     "execution_count": 27,
     "metadata": {},
     "output_type": "execute_result"
    }
   ],
   "source": [
    "Yt = Y.T\n",
    "Yt"
   ]
  },
  {
   "cell_type": "code",
   "execution_count": 28,
   "id": "afc07d2a",
   "metadata": {},
   "outputs": [
    {
     "data": {
      "text/plain": [
       "array([[ 2, 11, 20, 12],\n",
       "       [ 4, 25, 46, 26],\n",
       "       [ 6, 39, 72, 40]])"
      ]
     },
     "execution_count": 28,
     "metadata": {},
     "output_type": "execute_result"
    }
   ],
   "source": [
    "np.dot(X, Yt)"
   ]
  },
  {
   "cell_type": "markdown",
   "id": "46d9cf97",
   "metadata": {},
   "source": [
    "Вычисление определителя и ранга матрицы"
   ]
  },
  {
   "cell_type": "markdown",
   "id": "5545ade5",
   "metadata": {},
   "source": [
    "Пример 1"
   ]
  },
  {
   "cell_type": "code",
   "execution_count": 29,
   "id": "79bc314e",
   "metadata": {},
   "outputs": [],
   "source": [
    "A = np.array([[0, 1, 2],\n",
    "             [3, 4, 5],\n",
    "             [6, 7, 8]])"
   ]
  },
  {
   "cell_type": "code",
   "execution_count": 30,
   "id": "c21f47b9",
   "metadata": {},
   "outputs": [
    {
     "data": {
      "text/plain": [
       "0.0"
      ]
     },
     "execution_count": 30,
     "metadata": {},
     "output_type": "execute_result"
    }
   ],
   "source": [
    "np.linalg.det(A)"
   ]
  },
  {
   "cell_type": "code",
   "execution_count": 31,
   "id": "3942a7dc",
   "metadata": {},
   "outputs": [
    {
     "data": {
      "text/plain": [
       "2"
      ]
     },
     "execution_count": 31,
     "metadata": {},
     "output_type": "execute_result"
    }
   ],
   "source": [
    "np.linalg.matrix_rank(A)"
   ]
  },
  {
   "cell_type": "markdown",
   "id": "37339ba7",
   "metadata": {},
   "source": [
    "Пример 2"
   ]
  },
  {
   "cell_type": "code",
   "execution_count": 32,
   "id": "9462830d",
   "metadata": {},
   "outputs": [],
   "source": [
    "B = np.array([[7, 4, 5],\n",
    "             [8, 3, 2],\n",
    "             [6, 10, 12]])"
   ]
  },
  {
   "cell_type": "code",
   "execution_count": 33,
   "id": "43bc8d5b",
   "metadata": {},
   "outputs": [
    {
     "data": {
      "text/plain": [
       "85.99999999999997"
      ]
     },
     "execution_count": 33,
     "metadata": {},
     "output_type": "execute_result"
    }
   ],
   "source": [
    "np.linalg.det(B)"
   ]
  },
  {
   "cell_type": "code",
   "execution_count": 34,
   "id": "e1878042",
   "metadata": {},
   "outputs": [
    {
     "data": {
      "text/plain": [
       "3"
      ]
     },
     "execution_count": 34,
     "metadata": {},
     "output_type": "execute_result"
    }
   ],
   "source": [
    "np.linalg.matrix_rank(B)"
   ]
  },
  {
   "cell_type": "markdown",
   "id": "0b07f882",
   "metadata": {},
   "source": [
    "Пример 3 (можно узнать только ранг матрицы, но не определитель, так как она не квадратная)"
   ]
  },
  {
   "cell_type": "code",
   "execution_count": 35,
   "id": "e91626bc",
   "metadata": {},
   "outputs": [],
   "source": [
    "С = np.array([[7, 4],\n",
    "             [8, 3],\n",
    "             [6, 10]])"
   ]
  },
  {
   "cell_type": "code",
   "execution_count": 36,
   "id": "3b0828b3",
   "metadata": {},
   "outputs": [
    {
     "data": {
      "text/plain": [
       "3"
      ]
     },
     "execution_count": 36,
     "metadata": {},
     "output_type": "execute_result"
    }
   ],
   "source": [
    "np.linalg.matrix_rank(B)"
   ]
  },
  {
   "cell_type": "markdown",
   "id": "c7394304",
   "metadata": {},
   "source": [
    "### Вычисление обратной матрицы"
   ]
  },
  {
   "cell_type": "code",
   "execution_count": 37,
   "id": "e04670ef",
   "metadata": {},
   "outputs": [],
   "source": [
    "B = np.array([[7, 4, 5],\n",
    "             [8, 3, 2],\n",
    "             [6, 10, 12]])"
   ]
  },
  {
   "cell_type": "code",
   "execution_count": 38,
   "id": "9157ae7d",
   "metadata": {},
   "outputs": [
    {
     "data": {
      "text/plain": [
       "array([[ 0.18604651,  0.02325581, -0.08139535],\n",
       "       [-0.97674419,  0.62790698,  0.30232558],\n",
       "       [ 0.72093023, -0.53488372, -0.12790698]])"
      ]
     },
     "execution_count": 38,
     "metadata": {},
     "output_type": "execute_result"
    }
   ],
   "source": [
    "B_inv = np.linalg.inv(B)\n",
    "B_inv"
   ]
  },
  {
   "cell_type": "code",
   "execution_count": 39,
   "id": "aaa66c68",
   "metadata": {},
   "outputs": [],
   "source": [
    "B_inv2 = np.linalg.inv(B_inv)"
   ]
  },
  {
   "cell_type": "code",
   "execution_count": 40,
   "id": "34bd48fc",
   "metadata": {},
   "outputs": [
    {
     "data": {
      "text/plain": [
       "array([[ 7.,  4.,  5.],\n",
       "       [ 8.,  3.,  2.],\n",
       "       [ 6., 10., 12.]])"
      ]
     },
     "execution_count": 40,
     "metadata": {},
     "output_type": "execute_result"
    }
   ],
   "source": [
    "B_inv2"
   ]
  },
  {
   "cell_type": "code",
   "execution_count": null,
   "id": "b666f778",
   "metadata": {},
   "outputs": [],
   "source": []
  }
 ],
 "metadata": {
  "kernelspec": {
   "display_name": "Python 3 (ipykernel)",
   "language": "python",
   "name": "python3"
  },
  "language_info": {
   "codemirror_mode": {
    "name": "ipython",
    "version": 3
   },
   "file_extension": ".py",
   "mimetype": "text/x-python",
   "name": "python",
   "nbconvert_exporter": "python",
   "pygments_lexer": "ipython3",
   "version": "3.10.1"
  }
 },
 "nbformat": 4,
 "nbformat_minor": 5
}
