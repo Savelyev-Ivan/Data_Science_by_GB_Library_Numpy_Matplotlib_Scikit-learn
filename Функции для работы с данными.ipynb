{
 "cells": [
  {
   "cell_type": "code",
   "execution_count": 1,
   "id": "45b3ea09",
   "metadata": {},
   "outputs": [],
   "source": [
    "import numpy as np"
   ]
  },
  {
   "cell_type": "markdown",
   "id": "f0a30590",
   "metadata": {},
   "source": [
    "Выбор данных"
   ]
  },
  {
   "cell_type": "code",
   "execution_count": 2,
   "id": "54ce0faa",
   "metadata": {},
   "outputs": [
    {
     "data": {
      "text/plain": [
       "array([ 3, 15,  8, 10, 16,  2, 11, 10,  7, 17])"
      ]
     },
     "execution_count": 2,
     "metadata": {},
     "output_type": "execute_result"
    }
   ],
   "source": [
    "a = np.random.randint(0, 20, 10)\n",
    "a"
   ]
  },
  {
   "cell_type": "code",
   "execution_count": 3,
   "id": "8f62e6c9",
   "metadata": {},
   "outputs": [
    {
     "data": {
      "text/plain": [
       "array([15, 16, 11, 17])"
      ]
     },
     "execution_count": 3,
     "metadata": {},
     "output_type": "execute_result"
    }
   ],
   "source": [
    "a[a > 10]"
   ]
  },
  {
   "cell_type": "code",
   "execution_count": 4,
   "id": "b63d4c27",
   "metadata": {},
   "outputs": [
    {
     "data": {
      "text/plain": [
       "array([16])"
      ]
     },
     "execution_count": 4,
     "metadata": {},
     "output_type": "execute_result"
    }
   ],
   "source": [
    "a[(a > 10) & (a % 2 == 0)]"
   ]
  },
  {
   "cell_type": "code",
   "execution_count": 5,
   "id": "ff234818",
   "metadata": {},
   "outputs": [
    {
     "data": {
      "text/plain": [
       "array([ 3, 15, 16, 11, 17])"
      ]
     },
     "execution_count": 5,
     "metadata": {},
     "output_type": "execute_result"
    }
   ],
   "source": [
    "a[(a > 10) | (a % 3 == 0)]"
   ]
  },
  {
   "cell_type": "markdown",
   "id": "26c56ccd",
   "metadata": {},
   "source": [
    "***numpy.where*** - первый вариант\n"
   ]
  },
  {
   "cell_type": "code",
   "execution_count": 6,
   "id": "cc8796df",
   "metadata": {},
   "outputs": [
    {
     "data": {
      "text/plain": [
       "array([ 3, 15,  8, 10, 16,  2, 11, 10,  7, 17])"
      ]
     },
     "execution_count": 6,
     "metadata": {},
     "output_type": "execute_result"
    }
   ],
   "source": [
    "a"
   ]
  },
  {
   "cell_type": "code",
   "execution_count": 7,
   "id": "29b26e9c",
   "metadata": {},
   "outputs": [
    {
     "data": {
      "text/plain": [
       "(array([1, 4, 6, 9], dtype=int64),)"
      ]
     },
     "execution_count": 7,
     "metadata": {},
     "output_type": "execute_result"
    }
   ],
   "source": [
    "# возвращает индексы чисел, удовлетворяющих условию\n",
    "np.where(a > 10)"
   ]
  },
  {
   "cell_type": "code",
   "execution_count": 8,
   "id": "89254819",
   "metadata": {},
   "outputs": [
    {
     "data": {
      "text/plain": [
       "array([15, 16, 11, 17])"
      ]
     },
     "execution_count": 8,
     "metadata": {},
     "output_type": "execute_result"
    }
   ],
   "source": [
    "a[np.where(a > 10)]"
   ]
  },
  {
   "cell_type": "markdown",
   "id": "b1fdfce5",
   "metadata": {},
   "source": [
    "***numpy.where*** - второй вариант"
   ]
  },
  {
   "cell_type": "code",
   "execution_count": 9,
   "id": "f5d91c4e",
   "metadata": {},
   "outputs": [],
   "source": [
    "a = [1, 4, 7]\n",
    "b = [9, 2, 5]"
   ]
  },
  {
   "cell_type": "code",
   "execution_count": 10,
   "id": "ffb95a54",
   "metadata": {},
   "outputs": [
    {
     "data": {
      "text/plain": [
       "array([1, 2, 7])"
      ]
     },
     "execution_count": 10,
     "metadata": {},
     "output_type": "execute_result"
    }
   ],
   "source": [
    "#Если в условии True, то берем элемент из массива а,\n",
    "# если False - то из b\n",
    "np.where([True, False, True], a, b)"
   ]
  },
  {
   "cell_type": "markdown",
   "id": "7b754026",
   "metadata": {},
   "source": [
    "Сортировка"
   ]
  },
  {
   "cell_type": "code",
   "execution_count": 11,
   "id": "4f5971e1",
   "metadata": {},
   "outputs": [],
   "source": [
    "a = np.array([[1, 3, 9, 9],\n",
    "            [5, 0, 1, 5],\n",
    "            [2, 7, 3, 5]])"
   ]
  },
  {
   "cell_type": "code",
   "execution_count": 12,
   "id": "ff581a98",
   "metadata": {},
   "outputs": [
    {
     "data": {
      "text/plain": [
       "array([[1, 3, 9, 9],\n",
       "       [2, 7, 3, 5],\n",
       "       [5, 0, 1, 5]])"
      ]
     },
     "execution_count": 12,
     "metadata": {},
     "output_type": "execute_result"
    }
   ],
   "source": [
    "a[[0, 2, 1], :]"
   ]
  },
  {
   "cell_type": "code",
   "execution_count": 13,
   "id": "a9dbd403",
   "metadata": {},
   "outputs": [
    {
     "data": {
      "text/plain": [
       "array([[0, 1, 1, 1],\n",
       "       [2, 0, 2, 2],\n",
       "       [1, 2, 0, 0]], dtype=int64)"
      ]
     },
     "execution_count": 13,
     "metadata": {},
     "output_type": "execute_result"
    }
   ],
   "source": [
    "a.argsort(axis = 0)"
   ]
  },
  {
   "cell_type": "code",
   "execution_count": 14,
   "id": "df4bebee",
   "metadata": {},
   "outputs": [
    {
     "data": {
      "text/plain": [
       "array([0, 2, 1], dtype=int64)"
      ]
     },
     "execution_count": 14,
     "metadata": {},
     "output_type": "execute_result"
    }
   ],
   "source": [
    "a[:, 0].argsort()"
   ]
  },
  {
   "cell_type": "code",
   "execution_count": 15,
   "id": "4ff203e0",
   "metadata": {},
   "outputs": [
    {
     "data": {
      "text/plain": [
       "array([[1, 3, 9, 9],\n",
       "       [2, 7, 3, 5],\n",
       "       [5, 0, 1, 5]])"
      ]
     },
     "execution_count": 15,
     "metadata": {},
     "output_type": "execute_result"
    }
   ],
   "source": [
    "a[a[:, 0].argsort(), :]"
   ]
  },
  {
   "cell_type": "markdown",
   "id": "e8998ac0",
   "metadata": {},
   "source": [
    "Случайное перемешивание массивов"
   ]
  },
  {
   "cell_type": "markdown",
   "id": "2bf59d57",
   "metadata": {},
   "source": [
    "Одномерные массивы"
   ]
  },
  {
   "cell_type": "code",
   "execution_count": 16,
   "id": "23ab7517",
   "metadata": {},
   "outputs": [
    {
     "data": {
      "text/plain": [
       "array([0, 1, 2, 3, 4, 5, 6, 7, 8, 9])"
      ]
     },
     "execution_count": 16,
     "metadata": {},
     "output_type": "execute_result"
    }
   ],
   "source": [
    "a = np.arange(10)\n",
    "a"
   ]
  },
  {
   "cell_type": "code",
   "execution_count": 17,
   "id": "9683447f",
   "metadata": {},
   "outputs": [],
   "source": [
    "#inplace - на месте\n",
    "np.random.shuffle(a)"
   ]
  },
  {
   "cell_type": "code",
   "execution_count": 18,
   "id": "4a2e4b04",
   "metadata": {},
   "outputs": [
    {
     "data": {
      "text/plain": [
       "array([7, 2, 1, 9, 8, 0, 5, 3, 4, 6])"
      ]
     },
     "execution_count": 18,
     "metadata": {},
     "output_type": "execute_result"
    }
   ],
   "source": [
    "a"
   ]
  },
  {
   "cell_type": "markdown",
   "id": "6fea0b5b",
   "metadata": {},
   "source": [
    "Двумерные массивы"
   ]
  },
  {
   "cell_type": "code",
   "execution_count": 22,
   "id": "949b1429",
   "metadata": {},
   "outputs": [
    {
     "data": {
      "text/plain": [
       "array([[ 0,  1,  2],\n",
       "       [ 3,  4,  5],\n",
       "       [ 6,  7,  8],\n",
       "       [ 9, 10, 11]])"
      ]
     },
     "execution_count": 22,
     "metadata": {},
     "output_type": "execute_result"
    }
   ],
   "source": [
    "a = np.arange(12).reshape(4, 3)\n",
    "a"
   ]
  },
  {
   "cell_type": "code",
   "execution_count": 23,
   "id": "15691b29",
   "metadata": {},
   "outputs": [],
   "source": [
    "# inplace\n",
    "np.random.shuffle(a)"
   ]
  },
  {
   "cell_type": "code",
   "execution_count": 24,
   "id": "859a2870",
   "metadata": {},
   "outputs": [
    {
     "data": {
      "text/plain": [
       "array([[ 6,  7,  8],\n",
       "       [ 9, 10, 11],\n",
       "       [ 3,  4,  5],\n",
       "       [ 0,  1,  2]])"
      ]
     },
     "execution_count": 24,
     "metadata": {},
     "output_type": "execute_result"
    }
   ],
   "source": [
    "a"
   ]
  },
  {
   "cell_type": "markdown",
   "id": "f2e81c8e",
   "metadata": {},
   "source": [
    "#### Математические действия с массивами"
   ]
  },
  {
   "cell_type": "markdown",
   "id": "a887c9c5",
   "metadata": {},
   "source": [
    "Применение математических функций"
   ]
  },
  {
   "cell_type": "code",
   "execution_count": 31,
   "id": "c63ace69",
   "metadata": {},
   "outputs": [
    {
     "data": {
      "text/plain": [
       "array([[1, 2, 3],\n",
       "       [4, 5, 6]])"
      ]
     },
     "execution_count": 31,
     "metadata": {},
     "output_type": "execute_result"
    }
   ],
   "source": [
    "a = np.arange(1, 7).reshape(2, 3)\n",
    "a"
   ]
  },
  {
   "cell_type": "code",
   "execution_count": 26,
   "id": "93c32928",
   "metadata": {},
   "outputs": [
    {
     "data": {
      "text/plain": [
       "array([[0.        , 0.69314718, 1.09861229],\n",
       "       [1.38629436, 1.60943791, 1.79175947]])"
      ]
     },
     "execution_count": 26,
     "metadata": {},
     "output_type": "execute_result"
    }
   ],
   "source": [
    "# логарифм по основанию е\n",
    "np.log(a)"
   ]
  },
  {
   "cell_type": "code",
   "execution_count": 27,
   "id": "737cfaf6",
   "metadata": {},
   "outputs": [
    {
     "data": {
      "text/plain": [
       "array([[  2.71828183,   7.3890561 ,  20.08553692],\n",
       "       [ 54.59815003, 148.4131591 , 403.42879349]])"
      ]
     },
     "execution_count": 27,
     "metadata": {},
     "output_type": "execute_result"
    }
   ],
   "source": [
    "# Экспонента\n",
    "np.exp(a)"
   ]
  },
  {
   "cell_type": "code",
   "execution_count": 28,
   "id": "d764580a",
   "metadata": {},
   "outputs": [
    {
     "data": {
      "text/plain": [
       "21"
      ]
     },
     "execution_count": 28,
     "metadata": {},
     "output_type": "execute_result"
    }
   ],
   "source": [
    "a.sum()"
   ]
  },
  {
   "cell_type": "code",
   "execution_count": 30,
   "id": "88905335",
   "metadata": {},
   "outputs": [
    {
     "data": {
      "text/plain": [
       "array([ 6, 15])"
      ]
     },
     "execution_count": 30,
     "metadata": {},
     "output_type": "execute_result"
    }
   ],
   "source": [
    "a.sum(axis = 1)"
   ]
  },
  {
   "cell_type": "code",
   "execution_count": 32,
   "id": "00871be5",
   "metadata": {},
   "outputs": [
    {
     "data": {
      "text/plain": [
       "array([5, 7, 9])"
      ]
     },
     "execution_count": 32,
     "metadata": {},
     "output_type": "execute_result"
    }
   ],
   "source": [
    "a.sum(axis = 0)"
   ]
  },
  {
   "cell_type": "code",
   "execution_count": 33,
   "id": "338255a0",
   "metadata": {},
   "outputs": [
    {
     "data": {
      "text/plain": [
       "array([[1, 2, 3],\n",
       "       [4, 5, 6]])"
      ]
     },
     "execution_count": 33,
     "metadata": {},
     "output_type": "execute_result"
    }
   ],
   "source": [
    "a"
   ]
  },
  {
   "cell_type": "code",
   "execution_count": 34,
   "id": "21baad08",
   "metadata": {},
   "outputs": [
    {
     "data": {
      "text/plain": [
       "array([[11, 12, 13],\n",
       "       [14, 15, 16]])"
      ]
     },
     "execution_count": 34,
     "metadata": {},
     "output_type": "execute_result"
    }
   ],
   "source": [
    "10 + a"
   ]
  },
  {
   "cell_type": "code",
   "execution_count": 35,
   "id": "7d47460a",
   "metadata": {},
   "outputs": [
    {
     "data": {
      "text/plain": [
       "array([[ 0,  1,  2,  3],\n",
       "       [ 4,  5,  6,  7],\n",
       "       [ 8,  9, 10, 11]])"
      ]
     },
     "execution_count": 35,
     "metadata": {},
     "output_type": "execute_result"
    }
   ],
   "source": [
    "a = np.arange(12).reshape(3, -1)\n",
    "a"
   ]
  },
  {
   "cell_type": "code",
   "execution_count": 36,
   "id": "97ae2000",
   "metadata": {},
   "outputs": [
    {
     "data": {
      "text/plain": [
       "array([[12, 13, 14, 15],\n",
       "       [16, 17, 18, 19],\n",
       "       [20, 21, 22, 23]])"
      ]
     },
     "execution_count": 36,
     "metadata": {},
     "output_type": "execute_result"
    }
   ],
   "source": [
    "b = np.arange(12, 24).reshape(-1, 4)\n",
    "b"
   ]
  },
  {
   "cell_type": "code",
   "execution_count": 37,
   "id": "5806952a",
   "metadata": {},
   "outputs": [
    {
     "data": {
      "text/plain": [
       "array([[  0,  13,  28,  45],\n",
       "       [ 64,  85, 108, 133],\n",
       "       [160, 189, 220, 253]])"
      ]
     },
     "execution_count": 37,
     "metadata": {},
     "output_type": "execute_result"
    }
   ],
   "source": [
    "a * b"
   ]
  },
  {
   "cell_type": "markdown",
   "id": "61e512eb",
   "metadata": {},
   "source": [
    "Broadcasting"
   ]
  },
  {
   "cell_type": "code",
   "execution_count": 38,
   "id": "45437d4f",
   "metadata": {},
   "outputs": [],
   "source": [
    "a = np.array([[2, 5],\n",
    "             [3, 4],\n",
    "             [6, 1]])"
   ]
  },
  {
   "cell_type": "code",
   "execution_count": 39,
   "id": "32c613a4",
   "metadata": {},
   "outputs": [],
   "source": [
    "b = np.array([1, 2])"
   ]
  },
  {
   "cell_type": "code",
   "execution_count": 40,
   "id": "453ca5c4",
   "metadata": {},
   "outputs": [
    {
     "data": {
      "text/plain": [
       "array([[3, 7],\n",
       "       [4, 6],\n",
       "       [7, 3]])"
      ]
     },
     "execution_count": 40,
     "metadata": {},
     "output_type": "execute_result"
    }
   ],
   "source": [
    "a + b"
   ]
  },
  {
   "cell_type": "markdown",
   "id": "99c22092",
   "metadata": {},
   "source": [
    "2 случай - совпадает только число строк"
   ]
  },
  {
   "cell_type": "code",
   "execution_count": 41,
   "id": "49f7b701",
   "metadata": {},
   "outputs": [],
   "source": [
    "c = np.array([[1],\n",
    "             [2],\n",
    "            [3]])"
   ]
  },
  {
   "cell_type": "code",
   "execution_count": 42,
   "id": "3a3f7114",
   "metadata": {},
   "outputs": [
    {
     "data": {
      "text/plain": [
       "array([[3, 6],\n",
       "       [5, 6],\n",
       "       [9, 4]])"
      ]
     },
     "execution_count": 42,
     "metadata": {},
     "output_type": "execute_result"
    }
   ],
   "source": [
    "a + c"
   ]
  },
  {
   "cell_type": "markdown",
   "id": "d4fd1494",
   "metadata": {},
   "source": [
    "Статистичесике функции"
   ]
  },
  {
   "cell_type": "code",
   "execution_count": 44,
   "id": "2f4ba44f",
   "metadata": {},
   "outputs": [
    {
     "data": {
      "text/plain": [
       "array([[ 3,  9,  6,  4],\n",
       "       [ 5, 11,  4,  9],\n",
       "       [11,  7,  9,  4]])"
      ]
     },
     "execution_count": 44,
     "metadata": {},
     "output_type": "execute_result"
    }
   ],
   "source": [
    "a = np.random.randint(0, 12, (3, 4))\n",
    "a"
   ]
  },
  {
   "cell_type": "code",
   "execution_count": 45,
   "id": "e2f90b7f",
   "metadata": {},
   "outputs": [
    {
     "data": {
      "text/plain": [
       "3"
      ]
     },
     "execution_count": 45,
     "metadata": {},
     "output_type": "execute_result"
    }
   ],
   "source": [
    "a.min()"
   ]
  },
  {
   "cell_type": "code",
   "execution_count": 46,
   "id": "d8d6c477",
   "metadata": {},
   "outputs": [
    {
     "data": {
      "text/plain": [
       "array([3, 7, 4, 4])"
      ]
     },
     "execution_count": 46,
     "metadata": {},
     "output_type": "execute_result"
    }
   ],
   "source": [
    "#min для каждого столбца\n",
    "a.min(axis = 0)"
   ]
  },
  {
   "cell_type": "code",
   "execution_count": 47,
   "id": "130530cc",
   "metadata": {},
   "outputs": [
    {
     "data": {
      "text/plain": [
       "array([ 9, 11, 11])"
      ]
     },
     "execution_count": 47,
     "metadata": {},
     "output_type": "execute_result"
    }
   ],
   "source": [
    "#max по каждой строке\n",
    "a.max(axis = 1)\n"
   ]
  },
  {
   "cell_type": "code",
   "execution_count": 48,
   "id": "c45bdfd5",
   "metadata": {},
   "outputs": [
    {
     "data": {
      "text/plain": [
       "array([6.33333333, 9.        , 6.33333333, 5.66666667])"
      ]
     },
     "execution_count": 48,
     "metadata": {},
     "output_type": "execute_result"
    }
   ],
   "source": [
    "a.mean(axis = 0)"
   ]
  },
  {
   "cell_type": "code",
   "execution_count": 49,
   "id": "2d161c4a",
   "metadata": {},
   "outputs": [
    {
     "data": {
      "text/plain": [
       "array([3.39934634, 1.63299316, 2.05480467, 2.3570226 ])"
      ]
     },
     "execution_count": 49,
     "metadata": {},
     "output_type": "execute_result"
    }
   ],
   "source": [
    "a.std(axis = 0)"
   ]
  },
  {
   "cell_type": "markdown",
   "id": "918e1df2",
   "metadata": {},
   "source": [
    "Запись и чтение массива из файла"
   ]
  },
  {
   "cell_type": "code",
   "execution_count": 50,
   "id": "f462c83e",
   "metadata": {},
   "outputs": [],
   "source": [
    "np.save('a.npy', a)"
   ]
  },
  {
   "cell_type": "code",
   "execution_count": 51,
   "id": "e52785f2",
   "metadata": {},
   "outputs": [],
   "source": [
    "b = np.load('a.npy')\n"
   ]
  },
  {
   "cell_type": "code",
   "execution_count": 52,
   "id": "dc49dda8",
   "metadata": {},
   "outputs": [
    {
     "data": {
      "text/plain": [
       "array([[ 3,  9,  6,  4],\n",
       "       [ 5, 11,  4,  9],\n",
       "       [11,  7,  9,  4]])"
      ]
     },
     "execution_count": 52,
     "metadata": {},
     "output_type": "execute_result"
    }
   ],
   "source": [
    "b"
   ]
  },
  {
   "cell_type": "code",
   "execution_count": null,
   "id": "378b51ea",
   "metadata": {},
   "outputs": [],
   "source": []
  }
 ],
 "metadata": {
  "kernelspec": {
   "display_name": "Python 3 (ipykernel)",
   "language": "python",
   "name": "python3"
  },
  "language_info": {
   "codemirror_mode": {
    "name": "ipython",
    "version": 3
   },
   "file_extension": ".py",
   "mimetype": "text/x-python",
   "name": "python",
   "nbconvert_exporter": "python",
   "pygments_lexer": "ipython3",
   "version": "3.10.1"
  }
 },
 "nbformat": 4,
 "nbformat_minor": 5
}
